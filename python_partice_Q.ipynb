{
  "nbformat": 4,
  "nbformat_minor": 0,
  "metadata": {
    "colab": {
      "provenance": [],
      "authorship_tag": "ABX9TyPKTicH9PaFm/ZxbIpxMxJw",
      "include_colab_link": true
    },
    "kernelspec": {
      "name": "python3",
      "display_name": "Python 3"
    },
    "language_info": {
      "name": "python"
    }
  },
  "cells": [
    {
      "cell_type": "markdown",
      "metadata": {
        "id": "view-in-github",
        "colab_type": "text"
      },
      "source": [
        "<a href=\"https://colab.research.google.com/github/sumitgaikwad8877/python-Question/blob/main/python_partice_Q.ipynb\" target=\"_parent\"><img src=\"https://colab.research.google.com/assets/colab-badge.svg\" alt=\"Open In Colab\"/></a>"
      ]
    },
    {
      "cell_type": "code",
      "source": [
        " # Q1.reversing a string\n",
        " x = input('string:')\n",
        " y = x[::-1]\n",
        "print(y)"
      ],
      "metadata": {
        "colab": {
          "base_uri": "https://localhost:8080/"
        },
        "id": "wXg8BaFcwbil",
        "outputId": "13ba804c-8543-405d-f12e-82394b40ef5b"
      },
      "execution_count": null,
      "outputs": [
        {
          "output_type": "stream",
          "name": "stdout",
          "text": [
            "string:Sumit\n",
            "timuS\n"
          ]
        }
      ]
    },
    {
      "cell_type": "code",
      "execution_count": null,
      "metadata": {
        "colab": {
          "base_uri": "https://localhost:8080/"
        },
        "id": "HzyX5vjhu4HA",
        "outputId": "de45e119-b79d-4cc0-e6a5-e2788e815512"
      },
      "outputs": [
        {
          "output_type": "stream",
          "name": "stdout",
          "text": [
            "string:Sumit\n",
            "timus\n"
          ]
        }
      ],
      "source": [
        " # revarseing string use lower() funtion\n",
        " x = input('string:')\n",
        " y = x[::-1].lower()\n",
        "print(y)"
      ]
    },
    {
      "cell_type": "code",
      "source": [
        "x = input('string: ')\n",
        "y = x[::-1]\n",
        "if y == x:\n",
        "  print('y')"
      ],
      "metadata": {
        "colab": {
          "base_uri": "https://localhost:8080/"
        },
        "id": "Z72Jih5lvz8n",
        "outputId": "1d1a9be0-4b25-4dcf-e8ed-175fc56e0495"
      },
      "execution_count": null,
      "outputs": [
        {
          "name": "stdout",
          "output_type": "stream",
          "text": [
            "string: sbjwnd\n"
          ]
        }
      ]
    },
    {
      "cell_type": "code",
      "source": [
        "# Q.2Python Program to Check whether Year is a Leap Year or not\n",
        "# User enters the year\n",
        "year = int(input(\"Enter Year: \"))\n",
        "\n",
        "# Leap Year Check\n",
        "if year % 5 == 0 and year % 100 != 0:\n",
        "    print(year, \"is a Leap Year\")\n",
        "elif year % 100 == 0:\n",
        "    print(year, \"is not a Leap Year\")\n",
        "elif year % 400 ==0:\n",
        "    print(year, \"is a Leap Year\")\n",
        "else:\n",
        "    print(year, \"is not a Leap Year\")"
      ],
      "metadata": {
        "colab": {
          "base_uri": "https://localhost:8080/"
        },
        "id": "-x4fcPGYwEuD",
        "outputId": "05078c34-90a1-463d-9f1c-e4ce384bb745"
      },
      "execution_count": null,
      "outputs": [
        {
          "output_type": "stream",
          "name": "stdout",
          "text": [
            "Enter Year: 2004\n",
            "2004 is not a Leap Year\n"
          ]
        }
      ]
    },
    {
      "cell_type": "markdown",
      "source": [
        "*  Leap year mean 366 day in a year\n",
        "Feb 29 ki jiss year me hoti h wo leap year hoti h"
      ],
      "metadata": {
        "id": "3n_x0I7Q2lKA"
      }
    },
    {
      "cell_type": "code",
      "source": [
        "# Q3.range porgaram\n",
        "x = int(input())\n",
        "if x in range(1,100):\n",
        "   print(\" this no less than 100\")\n",
        "elif x in range(99,100):\n",
        "     print(\"same\")\n",
        "else:\n",
        "  print(\"more than 100\") "
      ],
      "metadata": {
        "colab": {
          "base_uri": "https://localhost:8080/"
        },
        "id": "xIyurZNfxQ1q",
        "outputId": "8921589c-972b-4be7-8f1e-d1f734ba871d"
      },
      "execution_count": null,
      "outputs": [
        {
          "output_type": "stream",
          "name": "stdout",
          "text": [
            "20\n",
            " this no less than 100\n"
          ]
        }
      ]
    },
    {
      "cell_type": "code",
      "source": [
        "x = input('x=')\n",
        "if x in range(2,6):\n",
        "  print(\"weird\")\n",
        "elif x in range(6,16):\n",
        "  print(\"not weird\")\n",
        "else:\n",
        "  print('out of range')"
      ],
      "metadata": {
        "colab": {
          "base_uri": "https://localhost:8080/"
        },
        "id": "pXMM5S6j8UuU",
        "outputId": "25dcdb62-d68f-4163-f14b-28edd9c47ad9"
      },
      "execution_count": null,
      "outputs": [
        {
          "output_type": "stream",
          "name": "stdout",
          "text": [
            "x=3\n",
            "out of range\n"
          ]
        }
      ]
    },
    {
      "cell_type": "code",
      "source": [
        "# print first 5 integers\n",
        "# using python range() function\n",
        "for i in range(5,100,5):\n",
        "    print(i, end=\" \")\n",
        "print()"
      ],
      "metadata": {
        "colab": {
          "base_uri": "https://localhost:8080/"
        },
        "id": "sb5bzAOD1qG7",
        "outputId": "3d9ea5ff-6252-4d37-99c8-e252ae3e27f5"
      },
      "execution_count": null,
      "outputs": [
        {
          "output_type": "stream",
          "name": "stdout",
          "text": [
            "5 10 15 20 25 30 35 40 45 50 55 60 65 70 75 80 85 90 95 \n"
          ]
        }
      ]
    },
    {
      "cell_type": "code",
      "source": [
        "# Q 3.The isupper() method returns True if all the characters are in upper case, otherwise False. Numbers, symbols and spaces are not checked, only alphabet characters\n",
        "x = \"sumit\"\n",
        "x.isupper()"
      ],
      "metadata": {
        "colab": {
          "base_uri": "https://localhost:8080/"
        },
        "id": "j9RzaACH9XYA",
        "outputId": "adfb752b-c6d1-443a-9b48-b53b93339c0d"
      },
      "execution_count": null,
      "outputs": [
        {
          "output_type": "execute_result",
          "data": {
            "text/plain": [
              "False"
            ]
          },
          "metadata": {},
          "execution_count": 55
        }
      ]
    },
    {
      "cell_type": "code",
      "source": [
        "y = \"SUMIT\"\n",
        "y[0:3].isupper()\n",
        "     "
      ],
      "metadata": {
        "colab": {
          "base_uri": "https://localhost:8080/"
        },
        "id": "TMl2FQds1y6C",
        "outputId": "17096ce7-40f1-489f-8e37-aacf178a621b"
      },
      "execution_count": null,
      "outputs": [
        {
          "output_type": "execute_result",
          "data": {
            "text/plain": [
              "True"
            ]
          },
          "metadata": {},
          "execution_count": 54
        }
      ]
    },
    {
      "cell_type": "code",
      "source": [
        "# Amstrong number\n",
        "num = int(input(\"enter a num: \"))\n",
        "x= num\n",
        "sum = 0\n",
        "while x>0:\n",
        "  y = x%10\n",
        "  sum += y**2\n",
        "  x//=10\n",
        "  if num == sum:\n",
        "    print(num,\"is an Armstring number\")\n",
        "  else:\n",
        "    print(num,\"is not a Armstrong number\")"
      ],
      "metadata": {
        "colab": {
          "base_uri": "https://localhost:8080/"
        },
        "id": "CXJScq-i8uPI",
        "outputId": "33d5611e-2448-4f91-b8ea-a67126affce1"
      },
      "execution_count": null,
      "outputs": [
        {
          "output_type": "stream",
          "name": "stdout",
          "text": [
            "enter a num: 5\n",
            "5 is not a Armstrong number\n"
          ]
        }
      ]
    },
    {
      "cell_type": "code",
      "source": [
        "a = int(input())\n",
        "k = a\n",
        "b = len(str(a))\n",
        "sum = 0\n",
        "while a > 0:\n",
        "  digit = a%10\n",
        "  sum += digit**b\n",
        "  a = a//10\n",
        "if k == sum :\n",
        "  print(\"this is\")\n",
        "else:\n",
        "  print(\"Not\") "
      ],
      "metadata": {
        "colab": {
          "base_uri": "https://localhost:8080/"
        },
        "id": "BBc_wxPrruaN",
        "outputId": "e21e4589-3378-4017-c755-4eaaf7361ca3"
      },
      "execution_count": null,
      "outputs": [
        {
          "output_type": "stream",
          "name": "stdout",
          "text": [
            "153\n",
            "this is\n"
          ]
        }
      ]
    },
    {
      "cell_type": "code",
      "source": [
        "# Python program to check if the number is an Armstrong number or not\n",
        "\n",
        "# take input from the user\n",
        "num = int(input(\"Enter a number: \"))\n",
        "\n",
        "# initialize sum\n",
        "sum = 0\n",
        "\n",
        "# find the sum of the cube of each digit\n",
        "temp = num\n",
        "while temp > 0:\n",
        "   digit = temp % 10\n",
        "   sum += digit ** 3\n",
        "   temp //= 10\n",
        "\n",
        "# display the result\n",
        "if num == sum:\n",
        "   print(num,\"is an Armstrong number\")\n",
        "else:\n",
        "   print(num,\"is not an Armstrong number\")\n"
      ],
      "metadata": {
        "colab": {
          "base_uri": "https://localhost:8080/"
        },
        "id": "1Pbpu3v38uR_",
        "outputId": "5592b9e4-66c9-4f5d-977f-dff4592b0a8e"
      },
      "execution_count": null,
      "outputs": [
        {
          "output_type": "stream",
          "name": "stdout",
          "text": [
            "Enter a number: 1452\n",
            "1452 is not an Armstrong number\n"
          ]
        }
      ]
    },
    {
      "cell_type": "code",
      "source": [
        "# python porgaram to display all prime numbers within an interval\n",
        "lower=10\n",
        "upper = 100\n",
        "\n",
        "print(\"prime numbers betwwen\", lower, \"and\", upper,\"are:\")\n",
        "\n",
        "for num in range(lower, upper +1):\n",
        "  # all prime numbers are greater than 1\n",
        "\n",
        "  if num >1:\n",
        "    for i in range(2, num):\n",
        "      if (num%i) == 0:\n",
        "          break\n",
        "    else:\n",
        "      print(num)\n",
        "\n",
        "    "
      ],
      "metadata": {
        "colab": {
          "base_uri": "https://localhost:8080/"
        },
        "id": "27UhstTN8uVE",
        "outputId": "e2d59a7e-bdb9-444a-bb0b-2e4abd895e65"
      },
      "execution_count": null,
      "outputs": [
        {
          "output_type": "stream",
          "name": "stdout",
          "text": [
            "prime numbers betwwen 10 and 100 are:\n",
            "11\n",
            "13\n",
            "17\n",
            "19\n",
            "23\n",
            "29\n",
            "31\n",
            "37\n",
            "41\n",
            "43\n",
            "47\n",
            "53\n",
            "59\n",
            "61\n",
            "67\n",
            "71\n",
            "73\n",
            "79\n",
            "83\n",
            "89\n",
            "97\n"
          ]
        }
      ]
    },
    {
      "cell_type": "code",
      "source": [
        "xyz = [1,4,5,1,2,3,45]\n",
        "xyz[0],xyz[-1]=xyz[-1],xyz[0]\n",
        "print(xyz)"
      ],
      "metadata": {
        "colab": {
          "base_uri": "https://localhost:8080/"
        },
        "id": "kfgQzviI8uX_",
        "outputId": "7fec2032-18b8-4e0f-f8ff-9ea5e5177049"
      },
      "execution_count": null,
      "outputs": [
        {
          "output_type": "stream",
          "name": "stdout",
          "text": [
            "[45, 4, 5, 1, 2, 3, 1]\n"
          ]
        }
      ]
    },
    {
      "cell_type": "code",
      "source": [
        "#In this specific example, the input is a list of numbers. And we have to return the mean and median of this list of numbers\n",
        "# calculate mean & median\n",
        "def calculate_averages(my_list):\n",
        "  '''\n",
        "  This function calculates the mean and median of a given list of numbers.\n",
        "  '''\n",
        "  # Step 1 : Calculate the mean\n",
        "  mean = sum(my_list)/len(my_list)\n",
        "\n",
        "  # Step 2 : Calculate the median\n",
        "  sorted_list = sorted(my_list)\n",
        "  list_length = len(sorted_list)\n",
        "\n",
        "  if list_length%2 == 0:\n",
        "    median = (sorted_list[int(list_length/2)-1] + sorted_list[int(list_length/2)])/2\n",
        "  else :\n",
        "    median = sorted_list[int((list_length+1)/2) - 1]\n",
        "     \n",
        "  return  mean, median"
      ],
      "metadata": {
        "id": "tUsbZxPOC_Z9"
      },
      "execution_count": null,
      "outputs": []
    },
    {
      "cell_type": "code",
      "source": [
        "heights =  [172,175,170,168,170,200]\n",
        "calculate_averages(heights)"
      ],
      "metadata": {
        "colab": {
          "base_uri": "https://localhost:8080/"
        },
        "id": "k1Dl-QtXDE1C",
        "outputId": "9e78d572-79f0-4c22-e4c7-982ccdb8e429"
      },
      "execution_count": null,
      "outputs": [
        {
          "output_type": "execute_result",
          "data": {
            "text/plain": [
              "(175.83333333333334, 171.0)"
            ]
          },
          "metadata": {},
          "execution_count": 13
        }
      ]
    },
    {
      "cell_type": "code",
      "source": [
        "# Let us write a function with multiple return statements\n",
        "# check_even_or_odd(num) porgaram\n",
        "num = int(input())\n",
        "def xyz(num):\n",
        "  if num%2 == 0:\n",
        "    return 'even'\n",
        "  else:\n",
        "    return 'odd'\n",
        "print(xyz(num))"
      ],
      "metadata": {
        "colab": {
          "base_uri": "https://localhost:8080/"
        },
        "id": "Jyk_--KyA5IV",
        "outputId": "0e873dfb-e87a-41ac-8ba8-3a823b124737"
      },
      "execution_count": null,
      "outputs": [
        {
          "output_type": "stream",
          "name": "stdout",
          "text": [
            "10\n",
            "even\n"
          ]
        }
      ]
    },
    {
      "cell_type": "markdown",
      "source": [
        "## <b> Almax <B>"
      ],
      "metadata": {
        "id": "CZls6Ask4b3Z"
      }
    },
    {
      "cell_type": "code",
      "source": [
        "# Q1.python program to remove empty list from the main list\n",
        "A = [5,4,6,81,[],[],12,2,54]\n",
        "B = [x for x in A if x]\n",
        "print(B)"
      ],
      "metadata": {
        "id": "1ajA5DyP8ubX",
        "colab": {
          "base_uri": "https://localhost:8080/"
        },
        "outputId": "cb2e250f-4914-4ce2-af1f-67df1cf558a9"
      },
      "execution_count": null,
      "outputs": [
        {
          "output_type": "stream",
          "name": "stdout",
          "text": [
            "[5, 4, 6, 81, 12, 2, 54]\n"
          ]
        }
      ]
    },
    {
      "cell_type": "code",
      "source": [
        " s = [1,5,3,4,[],1,5]\n",
        " q = [x for x in s if x]\n",
        " print(q)"
      ],
      "metadata": {
        "colab": {
          "base_uri": "https://localhost:8080/"
        },
        "id": "AnCpyjj8fAaA",
        "outputId": "f2a3fb41-1833-4880-8c43-759cb3254fd3"
      },
      "execution_count": null,
      "outputs": [
        {
          "output_type": "stream",
          "name": "stdout",
          "text": [
            "[1, 5, 3, 4, 1, 5]\n"
          ]
        }
      ]
    },
    {
      "cell_type": "code",
      "source": [
        "input_list = [5, 6, [], 3, [], [], 9]\n",
        "input_list2 = [x for x in input_list if x]\n",
        "print(input_list2)"
      ],
      "metadata": {
        "colab": {
          "base_uri": "https://localhost:8080/"
        },
        "id": "q5iObNZc6mX4",
        "outputId": "55cec52f-467c-44fc-f927-c71e5ac15fbb"
      },
      "execution_count": null,
      "outputs": [
        {
          "output_type": "stream",
          "name": "stdout",
          "text": [
            "[5, 6, 3, 9]\n"
          ]
        }
      ]
    },
    {
      "cell_type": "code",
      "source": [
        "# Python Code to Remove empty List from List\n",
        "\n",
        "def empty_list_remove(input_list):\n",
        "\tnew_list = []\n",
        "\tfor ele in input_list:\n",
        "\t\tif ele:\n",
        "\t\t\tnew_list.append(ele)\n",
        "\treturn new_list\n",
        "\n",
        "\n",
        "# input list values\n",
        "input_list = [5, 6, [], 3, [], [], 9]\n",
        "\n",
        "# print initial list values\n",
        "print(f\"The original list is : {input_list}\")\n",
        "# function-call & print values\n",
        "print(f\"List after empty list removal : {empty_list_remove(input_list)}\")\n"
      ],
      "metadata": {
        "colab": {
          "base_uri": "https://localhost:8080/"
        },
        "id": "GNIRuCyMEL0L",
        "outputId": "0c0de240-39a4-4552-a58e-6d7c09250b91"
      },
      "execution_count": null,
      "outputs": [
        {
          "output_type": "stream",
          "name": "stdout",
          "text": [
            "The original list is : [5, 6, [], 3, [], [], 9]\n",
            "List after empty list removal : [5, 6, 3, 9]\n"
          ]
        }
      ]
    },
    {
      "cell_type": "code",
      "source": [
        "def empty(s):\n",
        "  a = []\n",
        "  for x in s:\n",
        "    if x:\n",
        "      a.append(x)\n",
        "  return a\n",
        "\n",
        "  s =[5, 6, [], 3, [], [], 9]\n",
        "  print(empty(s))"
      ],
      "metadata": {
        "id": "MF_E4OET2vBp"
      },
      "execution_count": null,
      "outputs": []
    },
    {
      "cell_type": "code",
      "source": [
        "L = [1,2,3,4,[],5,6]\n",
        "h =  [ x for x in L if x]\n",
        "print(h)\n",
        "  "
      ],
      "metadata": {
        "colab": {
          "base_uri": "https://localhost:8080/"
        },
        "id": "ioDsHIasfbxE",
        "outputId": "d2ab4005-1e24-410a-d298-bf9145a4c9ee"
      },
      "execution_count": null,
      "outputs": [
        {
          "output_type": "stream",
          "name": "stdout",
          "text": [
            "[1, 2, 3, 4, 5, 6]\n"
          ]
        }
      ]
    },
    {
      "cell_type": "markdown",
      "source": [
        "Q2.different parts of syntax of list comprehension\n",
        "\n",
        "* As per the above syntax, the list comprehension syntax contains three parts: an expression, one or more for loop, and optionally, one or more if conditions. The list comprehension must be in the square brackets [] . The result of the first expression will be stored in the new list."
      ],
      "metadata": {
        "id": "QKNAQ-S4DdzG"
      }
    },
    {
      "cell_type": "markdown",
      "source": [
        "Q3. When do you a boxplot and in waht situation would you choose boxplot over histogaram and wat if formeting could you gain from a box-polt"
      ],
      "metadata": {
        "id": "HKqPVQxoD1hb"
      }
    },
    {
      "cell_type": "markdown",
      "source": [
        "Ans -Histograms are preferred to determine the underlying probability distribution of a data. Box plots on the other hand are more useful when comparing between several data sets. They are less detailed than histograms and take up less space."
      ],
      "metadata": {
        "id": "uMWIJF1mD7e2"
      }
    },
    {
      "cell_type": "markdown",
      "source": [
        "Histograms and box plots are very similar in that they both help to visualize and describe numeric data. Although histograms are better in determining the underlying distribution of the data, box plots allow you to compare multiple data sets better than histograms as they are less detailed and take up less space."
      ],
      "metadata": {
        "id": "i_4x7s-UXZJ4"
      }
    },
    {
      "cell_type": "code",
      "source": [
        "#Q.4 find the second largest number in List\n",
        "# using sort() funtion\n",
        "L = [1,2,3,5,46,8,95,]\n",
        "L.sort()\n",
        "print(L[-2])"
      ],
      "metadata": {
        "colab": {
          "base_uri": "https://localhost:8080/"
        },
        "id": "GAmtwC796mjq",
        "outputId": "0a28f1fe-31ec-4838-cc47-a6ffdc754204"
      },
      "execution_count": null,
      "outputs": [
        {
          "output_type": "stream",
          "name": "stdout",
          "text": [
            "46\n"
          ]
        }
      ]
    },
    {
      "cell_type": "code",
      "source": [
        "# using remove/max funtion\n",
        "L = [1,2,3,5,46,8,95,]\n",
        "L1=set(L)\n",
        "L1.remove(max(L1))\n",
        "print(max(L1))\n"
      ],
      "metadata": {
        "id": "ouVn_XLw6mnB",
        "colab": {
          "base_uri": "https://localhost:8080/"
        },
        "outputId": "755e7a51-f823-4ec4-ee63-aff98e3cfdf3"
      },
      "execution_count": null,
      "outputs": [
        {
          "output_type": "stream",
          "name": "stdout",
          "text": [
            "46\n"
          ]
        }
      ]
    },
    {
      "cell_type": "markdown",
      "source": [
        "Q5. difference between collaborative and content based recommender systems\n",
        "* Ans-Content-based filtering does not require other users' data during recommendations to one user. Collaborative filtering System: Collaborative does not need the features of the items to be given. Every user and item is described by a feature vector or embedding. It creates embedding for both users and items on its own\n",
        "* Content-based filtering uses similarities in products, services, or content features, as well as information accumulated about the user to make recommendations. Collaborative filtering relies on the preferences of similar users to offer recommendatio"
      ],
      "metadata": {
        "id": "aGGnhdFn4kH6"
      }
    },
    {
      "cell_type": "code",
      "source": [
        "# Q.6 Reverse the integer 1234(do not change type the data)\n",
        "num = 1234\n",
        "reversed_num = 0\n",
        "\n",
        "while num !=0:\n",
        "  digit=num%10\n",
        "  reversed_num=reversed_num *10 + digit\n",
        "  num//=10\n",
        "print(\"Reverse Number:\" + str(reversed_num))"
      ],
      "metadata": {
        "id": "mjHfrkgB6m20",
        "colab": {
          "base_uri": "https://localhost:8080/"
        },
        "outputId": "2deab0b9-5e6a-445c-9e40-24e279bbcd0e"
      },
      "execution_count": null,
      "outputs": [
        {
          "output_type": "stream",
          "name": "stdout",
          "text": [
            "Reverse Number:4321\n"
          ]
        }
      ]
    },
    {
      "cell_type": "code",
      "source": [
        "a = int(input('number: '))\n",
        "rv = 0\n",
        "while a != 0:\n",
        "   digit = a%10\n",
        "   rv = rv*10 + digit\n",
        "   a = a//10\n",
        "print(rv)"
      ],
      "metadata": {
        "colab": {
          "base_uri": "https://localhost:8080/"
        },
        "id": "b5y0bP-Ppjgk",
        "outputId": "1d96abfa-25cf-450e-bf19-e367eb69a8bf"
      },
      "execution_count": null,
      "outputs": [
        {
          "output_type": "stream",
          "name": "stdout",
          "text": [
            "number: 12345\n",
            "54321\n"
          ]
        }
      ]
    },
    {
      "cell_type": "code",
      "source": [
        " G = int(input('number:'))\n",
        " s = 0\n",
        " while G != 0:\n",
        "   D = G%10\n",
        "   s = s*10 + D\n",
        "   G = G//10\n",
        "print(s)"
      ],
      "metadata": {
        "colab": {
          "base_uri": "https://localhost:8080/"
        },
        "id": "xUCrvRnrha5H",
        "outputId": "2c595f8f-2c9d-44b2-f43f-cc2f6eb6c630"
      },
      "execution_count": null,
      "outputs": [
        {
          "output_type": "stream",
          "name": "stdout",
          "text": [
            "number:12345\n",
            "54321\n"
          ]
        }
      ]
    },
    {
      "cell_type": "code",
      "source": [
        "num = 1234\n",
        "print(str(num)[::-1])"
      ],
      "metadata": {
        "id": "gvCAV90N6nD1",
        "colab": {
          "base_uri": "https://localhost:8080/"
        },
        "outputId": "a54eebd3-6c09-44e4-f3bf-1ac28ce2ca37"
      },
      "execution_count": null,
      "outputs": [
        {
          "output_type": "stream",
          "name": "stdout",
          "text": [
            "4321\n"
          ]
        }
      ]
    },
    {
      "cell_type": "code",
      "source": [
        "n = 123456789\n",
        "print(str(n)[::-1])"
      ],
      "metadata": {
        "colab": {
          "base_uri": "https://localhost:8080/"
        },
        "id": "YCzCibXPjanH",
        "outputId": "82bac99e-270d-40d6-ba69-431e6a4dbf4e"
      },
      "execution_count": null,
      "outputs": [
        {
          "output_type": "stream",
          "name": "stdout",
          "text": [
            "987654321\n"
          ]
        }
      ]
    },
    {
      "cell_type": "code",
      "source": [
        "# Q.7 How to drop from a DataFrame\n",
        "# import pandas pakage\n",
        "# create a dictionary with five filed each\n",
        "import pandas as pd\n",
        "data = {\n",
        "    'A': ['A1', 'A2', 'A3', 'A4', 'A5'],\n",
        "    'B': ['B1', 'B2', 'B3', 'B4', 'B5'],\n",
        "    'C': ['C1', 'C2', 'C3', 'C4', 'C5'],\n",
        "    'D': ['D1', 'D2', 'D3', 'D4', 'D5'],\n",
        "    'E': ['E1', 'E2', 'E3', 'E4', 'E5']}\n",
        "print(data)\n",
        "    \n"
      ],
      "metadata": {
        "id": "lst2Tfdx6nWk",
        "colab": {
          "base_uri": "https://localhost:8080/"
        },
        "outputId": "d59d9655-fc9f-4e33-bbbb-a11df63f4ffd"
      },
      "execution_count": null,
      "outputs": [
        {
          "output_type": "stream",
          "name": "stdout",
          "text": [
            "{'A': ['A1', 'A2', 'A3', 'A4', 'A5'], 'B': ['B1', 'B2', 'B3', 'B4', 'B5'], 'C': ['C1', 'C2', 'C3', 'C4', 'C5'], 'D': ['D1', 'D2', 'D3', 'D4', 'D5'], 'E': ['E1', 'E2', 'E3', 'E4', 'E5']}\n"
          ]
        }
      ]
    },
    {
      "cell_type": "code",
      "source": [
        "# covert the dictionary into Dataframe\n",
        "df = pd.DataFrame(data)\n",
        "df"
      ],
      "metadata": {
        "id": "_Xc6OAir6nk_",
        "colab": {
          "base_uri": "https://localhost:8080/",
          "height": 206
        },
        "outputId": "8afdbf10-612d-44d5-bfd7-bc8d2dfcb3d5"
      },
      "execution_count": null,
      "outputs": [
        {
          "output_type": "execute_result",
          "data": {
            "text/plain": [
              "    A   B   C   D   E\n",
              "0  A1  B1  C1  D1  E1\n",
              "1  A2  B2  C2  D2  E2\n",
              "2  A3  B3  C3  D3  E3\n",
              "3  A4  B4  C4  D4  E4\n",
              "4  A5  B5  C5  D5  E5"
            ],
            "text/html": [
              "\n",
              "  <div id=\"df-cf71eb54-db56-4475-b865-d633c2324d58\">\n",
              "    <div class=\"colab-df-container\">\n",
              "      <div>\n",
              "<style scoped>\n",
              "    .dataframe tbody tr th:only-of-type {\n",
              "        vertical-align: middle;\n",
              "    }\n",
              "\n",
              "    .dataframe tbody tr th {\n",
              "        vertical-align: top;\n",
              "    }\n",
              "\n",
              "    .dataframe thead th {\n",
              "        text-align: right;\n",
              "    }\n",
              "</style>\n",
              "<table border=\"1\" class=\"dataframe\">\n",
              "  <thead>\n",
              "    <tr style=\"text-align: right;\">\n",
              "      <th></th>\n",
              "      <th>A</th>\n",
              "      <th>B</th>\n",
              "      <th>C</th>\n",
              "      <th>D</th>\n",
              "      <th>E</th>\n",
              "    </tr>\n",
              "  </thead>\n",
              "  <tbody>\n",
              "    <tr>\n",
              "      <th>0</th>\n",
              "      <td>A1</td>\n",
              "      <td>B1</td>\n",
              "      <td>C1</td>\n",
              "      <td>D1</td>\n",
              "      <td>E1</td>\n",
              "    </tr>\n",
              "    <tr>\n",
              "      <th>1</th>\n",
              "      <td>A2</td>\n",
              "      <td>B2</td>\n",
              "      <td>C2</td>\n",
              "      <td>D2</td>\n",
              "      <td>E2</td>\n",
              "    </tr>\n",
              "    <tr>\n",
              "      <th>2</th>\n",
              "      <td>A3</td>\n",
              "      <td>B3</td>\n",
              "      <td>C3</td>\n",
              "      <td>D3</td>\n",
              "      <td>E3</td>\n",
              "    </tr>\n",
              "    <tr>\n",
              "      <th>3</th>\n",
              "      <td>A4</td>\n",
              "      <td>B4</td>\n",
              "      <td>C4</td>\n",
              "      <td>D4</td>\n",
              "      <td>E4</td>\n",
              "    </tr>\n",
              "    <tr>\n",
              "      <th>4</th>\n",
              "      <td>A5</td>\n",
              "      <td>B5</td>\n",
              "      <td>C5</td>\n",
              "      <td>D5</td>\n",
              "      <td>E5</td>\n",
              "    </tr>\n",
              "  </tbody>\n",
              "</table>\n",
              "</div>\n",
              "      <button class=\"colab-df-convert\" onclick=\"convertToInteractive('df-cf71eb54-db56-4475-b865-d633c2324d58')\"\n",
              "              title=\"Convert this dataframe to an interactive table.\"\n",
              "              style=\"display:none;\">\n",
              "        \n",
              "  <svg xmlns=\"http://www.w3.org/2000/svg\" height=\"24px\"viewBox=\"0 0 24 24\"\n",
              "       width=\"24px\">\n",
              "    <path d=\"M0 0h24v24H0V0z\" fill=\"none\"/>\n",
              "    <path d=\"M18.56 5.44l.94 2.06.94-2.06 2.06-.94-2.06-.94-.94-2.06-.94 2.06-2.06.94zm-11 1L8.5 8.5l.94-2.06 2.06-.94-2.06-.94L8.5 2.5l-.94 2.06-2.06.94zm10 10l.94 2.06.94-2.06 2.06-.94-2.06-.94-.94-2.06-.94 2.06-2.06.94z\"/><path d=\"M17.41 7.96l-1.37-1.37c-.4-.4-.92-.59-1.43-.59-.52 0-1.04.2-1.43.59L10.3 9.45l-7.72 7.72c-.78.78-.78 2.05 0 2.83L4 21.41c.39.39.9.59 1.41.59.51 0 1.02-.2 1.41-.59l7.78-7.78 2.81-2.81c.8-.78.8-2.07 0-2.86zM5.41 20L4 18.59l7.72-7.72 1.47 1.35L5.41 20z\"/>\n",
              "  </svg>\n",
              "      </button>\n",
              "      \n",
              "  <style>\n",
              "    .colab-df-container {\n",
              "      display:flex;\n",
              "      flex-wrap:wrap;\n",
              "      gap: 12px;\n",
              "    }\n",
              "\n",
              "    .colab-df-convert {\n",
              "      background-color: #E8F0FE;\n",
              "      border: none;\n",
              "      border-radius: 50%;\n",
              "      cursor: pointer;\n",
              "      display: none;\n",
              "      fill: #1967D2;\n",
              "      height: 32px;\n",
              "      padding: 0 0 0 0;\n",
              "      width: 32px;\n",
              "    }\n",
              "\n",
              "    .colab-df-convert:hover {\n",
              "      background-color: #E2EBFA;\n",
              "      box-shadow: 0px 1px 2px rgba(60, 64, 67, 0.3), 0px 1px 3px 1px rgba(60, 64, 67, 0.15);\n",
              "      fill: #174EA6;\n",
              "    }\n",
              "\n",
              "    [theme=dark] .colab-df-convert {\n",
              "      background-color: #3B4455;\n",
              "      fill: #D2E3FC;\n",
              "    }\n",
              "\n",
              "    [theme=dark] .colab-df-convert:hover {\n",
              "      background-color: #434B5C;\n",
              "      box-shadow: 0px 1px 3px 1px rgba(0, 0, 0, 0.15);\n",
              "      filter: drop-shadow(0px 1px 2px rgba(0, 0, 0, 0.3));\n",
              "      fill: #FFFFFF;\n",
              "    }\n",
              "  </style>\n",
              "\n",
              "      <script>\n",
              "        const buttonEl =\n",
              "          document.querySelector('#df-cf71eb54-db56-4475-b865-d633c2324d58 button.colab-df-convert');\n",
              "        buttonEl.style.display =\n",
              "          google.colab.kernel.accessAllowed ? 'block' : 'none';\n",
              "\n",
              "        async function convertToInteractive(key) {\n",
              "          const element = document.querySelector('#df-cf71eb54-db56-4475-b865-d633c2324d58');\n",
              "          const dataTable =\n",
              "            await google.colab.kernel.invokeFunction('convertToInteractive',\n",
              "                                                     [key], {});\n",
              "          if (!dataTable) return;\n",
              "\n",
              "          const docLinkHtml = 'Like what you see? Visit the ' +\n",
              "            '<a target=\"_blank\" href=https://colab.research.google.com/notebooks/data_table.ipynb>data table notebook</a>'\n",
              "            + ' to learn more about interactive tables.';\n",
              "          element.innerHTML = '';\n",
              "          dataTable['output_type'] = 'display_data';\n",
              "          await google.colab.output.renderOutput(dataTable, element);\n",
              "          const docLink = document.createElement('div');\n",
              "          docLink.innerHTML = docLinkHtml;\n",
              "          element.appendChild(docLink);\n",
              "        }\n",
              "      </script>\n",
              "    </div>\n",
              "  </div>\n",
              "  "
            ]
          },
          "metadata": {},
          "execution_count": 25
        }
      ]
    },
    {
      "cell_type": "code",
      "source": [
        "# remove column name \"A\"\n",
        "df.drop([\"A\"],axis=1)"
      ],
      "metadata": {
        "colab": {
          "base_uri": "https://localhost:8080/",
          "height": 206
        },
        "id": "h6AqRA3z7cVO",
        "outputId": "de23bde0-85b5-41b1-d7e9-c7534ae24b58"
      },
      "execution_count": null,
      "outputs": [
        {
          "output_type": "execute_result",
          "data": {
            "text/plain": [
              "    B   C   D   E\n",
              "0  B1  C1  D1  E1\n",
              "1  B2  C2  D2  E2\n",
              "2  B3  C3  D3  E3\n",
              "3  B4  C4  D4  E4\n",
              "4  B5  C5  D5  E5"
            ],
            "text/html": [
              "\n",
              "  <div id=\"df-cf620e19-2eb5-46cd-ad47-414f5b016f44\">\n",
              "    <div class=\"colab-df-container\">\n",
              "      <div>\n",
              "<style scoped>\n",
              "    .dataframe tbody tr th:only-of-type {\n",
              "        vertical-align: middle;\n",
              "    }\n",
              "\n",
              "    .dataframe tbody tr th {\n",
              "        vertical-align: top;\n",
              "    }\n",
              "\n",
              "    .dataframe thead th {\n",
              "        text-align: right;\n",
              "    }\n",
              "</style>\n",
              "<table border=\"1\" class=\"dataframe\">\n",
              "  <thead>\n",
              "    <tr style=\"text-align: right;\">\n",
              "      <th></th>\n",
              "      <th>B</th>\n",
              "      <th>C</th>\n",
              "      <th>D</th>\n",
              "      <th>E</th>\n",
              "    </tr>\n",
              "  </thead>\n",
              "  <tbody>\n",
              "    <tr>\n",
              "      <th>0</th>\n",
              "      <td>B1</td>\n",
              "      <td>C1</td>\n",
              "      <td>D1</td>\n",
              "      <td>E1</td>\n",
              "    </tr>\n",
              "    <tr>\n",
              "      <th>1</th>\n",
              "      <td>B2</td>\n",
              "      <td>C2</td>\n",
              "      <td>D2</td>\n",
              "      <td>E2</td>\n",
              "    </tr>\n",
              "    <tr>\n",
              "      <th>2</th>\n",
              "      <td>B3</td>\n",
              "      <td>C3</td>\n",
              "      <td>D3</td>\n",
              "      <td>E3</td>\n",
              "    </tr>\n",
              "    <tr>\n",
              "      <th>3</th>\n",
              "      <td>B4</td>\n",
              "      <td>C4</td>\n",
              "      <td>D4</td>\n",
              "      <td>E4</td>\n",
              "    </tr>\n",
              "    <tr>\n",
              "      <th>4</th>\n",
              "      <td>B5</td>\n",
              "      <td>C5</td>\n",
              "      <td>D5</td>\n",
              "      <td>E5</td>\n",
              "    </tr>\n",
              "  </tbody>\n",
              "</table>\n",
              "</div>\n",
              "      <button class=\"colab-df-convert\" onclick=\"convertToInteractive('df-cf620e19-2eb5-46cd-ad47-414f5b016f44')\"\n",
              "              title=\"Convert this dataframe to an interactive table.\"\n",
              "              style=\"display:none;\">\n",
              "        \n",
              "  <svg xmlns=\"http://www.w3.org/2000/svg\" height=\"24px\"viewBox=\"0 0 24 24\"\n",
              "       width=\"24px\">\n",
              "    <path d=\"M0 0h24v24H0V0z\" fill=\"none\"/>\n",
              "    <path d=\"M18.56 5.44l.94 2.06.94-2.06 2.06-.94-2.06-.94-.94-2.06-.94 2.06-2.06.94zm-11 1L8.5 8.5l.94-2.06 2.06-.94-2.06-.94L8.5 2.5l-.94 2.06-2.06.94zm10 10l.94 2.06.94-2.06 2.06-.94-2.06-.94-.94-2.06-.94 2.06-2.06.94z\"/><path d=\"M17.41 7.96l-1.37-1.37c-.4-.4-.92-.59-1.43-.59-.52 0-1.04.2-1.43.59L10.3 9.45l-7.72 7.72c-.78.78-.78 2.05 0 2.83L4 21.41c.39.39.9.59 1.41.59.51 0 1.02-.2 1.41-.59l7.78-7.78 2.81-2.81c.8-.78.8-2.07 0-2.86zM5.41 20L4 18.59l7.72-7.72 1.47 1.35L5.41 20z\"/>\n",
              "  </svg>\n",
              "      </button>\n",
              "      \n",
              "  <style>\n",
              "    .colab-df-container {\n",
              "      display:flex;\n",
              "      flex-wrap:wrap;\n",
              "      gap: 12px;\n",
              "    }\n",
              "\n",
              "    .colab-df-convert {\n",
              "      background-color: #E8F0FE;\n",
              "      border: none;\n",
              "      border-radius: 50%;\n",
              "      cursor: pointer;\n",
              "      display: none;\n",
              "      fill: #1967D2;\n",
              "      height: 32px;\n",
              "      padding: 0 0 0 0;\n",
              "      width: 32px;\n",
              "    }\n",
              "\n",
              "    .colab-df-convert:hover {\n",
              "      background-color: #E2EBFA;\n",
              "      box-shadow: 0px 1px 2px rgba(60, 64, 67, 0.3), 0px 1px 3px 1px rgba(60, 64, 67, 0.15);\n",
              "      fill: #174EA6;\n",
              "    }\n",
              "\n",
              "    [theme=dark] .colab-df-convert {\n",
              "      background-color: #3B4455;\n",
              "      fill: #D2E3FC;\n",
              "    }\n",
              "\n",
              "    [theme=dark] .colab-df-convert:hover {\n",
              "      background-color: #434B5C;\n",
              "      box-shadow: 0px 1px 3px 1px rgba(0, 0, 0, 0.15);\n",
              "      filter: drop-shadow(0px 1px 2px rgba(0, 0, 0, 0.3));\n",
              "      fill: #FFFFFF;\n",
              "    }\n",
              "  </style>\n",
              "\n",
              "      <script>\n",
              "        const buttonEl =\n",
              "          document.querySelector('#df-cf620e19-2eb5-46cd-ad47-414f5b016f44 button.colab-df-convert');\n",
              "        buttonEl.style.display =\n",
              "          google.colab.kernel.accessAllowed ? 'block' : 'none';\n",
              "\n",
              "        async function convertToInteractive(key) {\n",
              "          const element = document.querySelector('#df-cf620e19-2eb5-46cd-ad47-414f5b016f44');\n",
              "          const dataTable =\n",
              "            await google.colab.kernel.invokeFunction('convertToInteractive',\n",
              "                                                     [key], {});\n",
              "          if (!dataTable) return;\n",
              "\n",
              "          const docLinkHtml = 'Like what you see? Visit the ' +\n",
              "            '<a target=\"_blank\" href=https://colab.research.google.com/notebooks/data_table.ipynb>data table notebook</a>'\n",
              "            + ' to learn more about interactive tables.';\n",
              "          element.innerHTML = '';\n",
              "          dataTable['output_type'] = 'display_data';\n",
              "          await google.colab.output.renderOutput(dataTable, element);\n",
              "          const docLink = document.createElement('div');\n",
              "          docLink.innerHTML = docLinkHtml;\n",
              "          element.appendChild(docLink);\n",
              "        }\n",
              "      </script>\n",
              "    </div>\n",
              "  </div>\n",
              "  "
            ]
          },
          "metadata": {},
          "execution_count": 26
        }
      ]
    },
    {
      "cell_type": "markdown",
      "source": [
        "Q.8 what is interquartile range\n",
        "* Ans. The interquartile range (IQR) is the difference between the 75th and 25th percentile of the data. It is a measure of the dispersion similar to standard deviation or variance, but is much more robust against outliers [2\n",
        "\n",
        "* The interquartile range (IQR) contains the second and third quartiles, or the middle half of your data set. Whereas the range gives you the spread of the whole data set, the interquartile range gives you the range of the middle half of a data set"
      ],
      "metadata": {
        "id": "_XrrbUrz8C53"
      }
    },
    {
      "cell_type": "code",
      "source": [
        "# Q.9 Given a list write a python porgaram to swap frist and last element of list\n",
        "my = [5, 6, 7, 10, 11, 12]\n",
        "my[0],my[-1] =my[-1],my[0]\n",
        "print(my)\n"
      ],
      "metadata": {
        "colab": {
          "base_uri": "https://localhost:8080/"
        },
        "id": "bZpScQWI71SY",
        "outputId": "9fae50f3-c45d-418c-f6ff-0e017bb9b022"
      },
      "execution_count": null,
      "outputs": [
        {
          "output_type": "stream",
          "name": "stdout",
          "text": [
            "[12, 6, 7, 10, 11, 5]\n"
          ]
        }
      ]
    },
    {
      "cell_type": "code",
      "source": [
        "mylist   = [5, 6, 7, 10, 11, 12]\n",
        "first_el = mylist.pop(0)   # first_el = 5, mylist = [6, 7, 10, 11, 12]\n",
        "last_el  = mylist.pop(-1)  # last_el = 12, mylist = [6, 7, 10, 11]\n",
        "mylist.insert(0, last_el)  # mylist = [12, 6, 7, 10, 11]\n",
        "mylist.append(first_el)    # mylist = [12, 6, 7, 10, 11, 5]\n",
        "mylist"
      ],
      "metadata": {
        "colab": {
          "base_uri": "https://localhost:8080/"
        },
        "id": "Cm563ia88sqN",
        "outputId": "a80a1b2d-72aa-4faf-f6e0-b10fdae753fc"
      },
      "execution_count": null,
      "outputs": [
        {
          "output_type": "execute_result",
          "data": {
            "text/plain": [
              "[12, 6, 7, 10, 11, 5]"
            ]
          },
          "metadata": {},
          "execution_count": 28
        }
      ]
    },
    {
      "cell_type": "code",
      "source": [
        "#list[0], list[-1] = list[-1], list[0]\n",
        "xyz = [1,4,5,1,2,3,45]\n",
        "xyz[0],xyz[-1]=xyz[-1],xyz[0]\n",
        "print(xyz)"
      ],
      "metadata": {
        "colab": {
          "base_uri": "https://localhost:8080/"
        },
        "id": "OZ_1DT8g85On",
        "outputId": "186f7d54-f91d-4310-c82f-2ad74165e689"
      },
      "execution_count": null,
      "outputs": [
        {
          "output_type": "stream",
          "name": "stdout",
          "text": [
            "[45, 4, 5, 1, 2, 3, 1]\n"
          ]
        }
      ]
    },
    {
      "cell_type": "markdown",
      "source": [
        "Q10.what is aggregate function\n",
        "\n",
        "* Ans--The aggregate() method allows you to apply a function or a list of function names to be executed along one of the axis of the DataFrame, default 0, which is the index (row) axis. Note: the agg() method is an alias of the aggregate() method.\n",
        "\n",
        "* An aggregate function is a mathematical computation involving a range of values that results in just a single value expressing the significance of the accumulated data it is derived from. Aggregate functions are often used to derive descriptive statistics."
      ],
      "metadata": {
        "id": "w_NX518_9Mbb"
      }
    },
    {
      "cell_type": "markdown",
      "source": [
        "Q11.Which all python libraries have you used for visualization\n",
        "\n",
        "* Ans--Matplotlib and Seaborn are python libraries that are used for data visualization. They have inbuilt modules for plotting different graphs. While Matplotlib is used to embed graphs into applications, Seaborn is primarily used for statistical graphs"
      ],
      "metadata": {
        "id": "6nhDQBcj9V2w"
      }
    },
    {
      "cell_type": "markdown",
      "source": [
        "Q.12 how can we visualize more than three dimensions of data in a single chart\n",
        "* Ans--The best way to go higher than three dimensions is to use plot facets, color, shapes, sizes, depth and so on. You can also use time as a dimension by making an animated plot for other attributes over time (considering time is a dimension in the data)"
      ],
      "metadata": {
        "id": "T0TAr0IU9d4k"
      }
    },
    {
      "cell_type": "markdown",
      "source": [
        "Q.13 What are important features of a good data visualization?\n",
        "* Here are 10 elements of good data visualization that can help you present information that readers can process quickly and easily.\n",
        "Clear Headings and Keys. ...\n",
        "Obvious Trends. ...\n",
        "Simple Analysis. ...\n",
        "Relevant Comparisons. ...\n",
        "Lots of Data/Evidence. ...\n",
        "Summaries of Key Points. ...\n",
        "Add design elements. ...\n",
        "Consolidated Information."
      ],
      "metadata": {
        "id": "4ngcps6L93lV"
      }
    },
    {
      "cell_type": "code",
      "source": [
        "# Q14.write a function to find the words in a string that greater than the given number\n",
        "n=\"hello geeks for geeks is computer science portal\"; l=3\n",
        "s = n.split(\" \")\n",
        "l = list(filter(lambda x: (len(x)>l),s))\n",
        "print(l)\n"
      ],
      "metadata": {
        "colab": {
          "base_uri": "https://localhost:8080/"
        },
        "id": "-9YGXdUe9E6A",
        "outputId": "22ae0ec4-b0ef-4776-da62-380b84abaf13"
      },
      "execution_count": null,
      "outputs": [
        {
          "output_type": "stream",
          "name": "stdout",
          "text": [
            "['hello', 'geeks', 'geeks', 'computer', 'science', 'portal']\n"
          ]
        }
      ]
    },
    {
      "cell_type": "code",
      "source": [
        "sentence = \"hello geeks for geeks is computer science portal\"\n",
        "length = 4\n",
        "s=sentence.split()\n",
        "print([a for i,a in enumerate(s) if len(a) > length])"
      ],
      "metadata": {
        "colab": {
          "base_uri": "https://localhost:8080/"
        },
        "id": "8EYDHRTU-2F8",
        "outputId": "8f44de6a-5675-41bd-be86-83ab7c95136e"
      },
      "execution_count": null,
      "outputs": [
        {
          "output_type": "stream",
          "name": "stdout",
          "text": [
            "['hello', 'geeks', 'geeks', 'computer', 'science', 'portal']\n"
          ]
        }
      ]
    },
    {
      "cell_type": "code",
      "source": [
        "sentence = \"hello geeks for geeks is computer science portal\"\n",
        "length = 4\n",
        "print([word for word in sentence.split() if len(word) > length])\n"
      ],
      "metadata": {
        "colab": {
          "base_uri": "https://localhost:8080/"
        },
        "id": "gzKA3jH9_V0Q",
        "outputId": "a8cfd7cc-5f0c-4186-d7c3-9afcf0161ec0"
      },
      "execution_count": null,
      "outputs": [
        {
          "output_type": "stream",
          "name": "stdout",
          "text": [
            "['hello', 'geeks', 'geeks', 'computer', 'science', 'portal']\n"
          ]
        }
      ]
    },
    {
      "cell_type": "code",
      "source": [
        "# that ok \n",
        "sentence = \"hello geeks for geeks is computer science portal\"\n",
        "length = 4\n",
        "ss = [ x for x in sentence.split() if len(x) > length]\n",
        "print(ss)"
      ],
      "metadata": {
        "colab": {
          "base_uri": "https://localhost:8080/"
        },
        "id": "IweZGln7k20_",
        "outputId": "64f73097-2435-4c9c-c460-2bcf2ef76c58"
      },
      "execution_count": null,
      "outputs": [
        {
          "output_type": "stream",
          "name": "stdout",
          "text": [
            "['hello', 'geeks', 'geeks', 'computer', 'science', 'portal']\n"
          ]
        }
      ]
    },
    {
      "cell_type": "code",
      "source": [
        "def word_k(k,s):\n",
        "  word = s.split(\" \")\n",
        "  for x in word:\n",
        "    if len(x)>k:\n",
        "      print(x)\n",
        "k =3\n",
        "s=\"hello geeks for geeks is computer science portal\"\n",
        "word_k(k,s)\n"
      ],
      "metadata": {
        "colab": {
          "base_uri": "https://localhost:8080/"
        },
        "id": "Ti7yTWiq_YRB",
        "outputId": "4d46d2be-c292-4210-f533-ebf0ebe3e164"
      },
      "execution_count": null,
      "outputs": [
        {
          "output_type": "stream",
          "name": "stdout",
          "text": [
            "hello\n",
            "geeks\n",
            "geeks\n",
            "computer\n",
            "science\n",
            "portal\n"
          ]
        }
      ]
    },
    {
      "cell_type": "code",
      "source": [
        "s=\"hello geeks for geeks is computer science portal\";L=4\n",
        "A=s.split(\" \")\n",
        "L= list(filter(lambda x: (len(x)>L),A))\n",
        "print(L)\n"
      ],
      "metadata": {
        "colab": {
          "base_uri": "https://localhost:8080/"
        },
        "id": "SGzrf0ZY_x-o",
        "outputId": "96d9a04d-84c4-4d50-ba51-27c80cdccfe5"
      },
      "execution_count": null,
      "outputs": [
        {
          "output_type": "stream",
          "name": "stdout",
          "text": [
            "['hello', 'geeks', 'geeks', 'computer', 'science', 'portal']\n"
          ]
        }
      ]
    },
    {
      "cell_type": "code",
      "source": [
        "# Q.16 Write a python porgaram to find all odd number in given range\n",
        "S = int(input())\n",
        "E = int(input())\n",
        "for x in range(S, E + 1):\n",
        "  if x % 2 != 0:\n",
        "    print(x)\n"
      ],
      "metadata": {
        "colab": {
          "base_uri": "https://localhost:8080/"
        },
        "id": "STgU1zfiAp83",
        "outputId": "a83e3882-2619-4097-bc06-b3b2e19d49e1"
      },
      "execution_count": null,
      "outputs": [
        {
          "output_type": "stream",
          "name": "stdout",
          "text": [
            "1\n",
            "10\n",
            "1\n",
            "3\n",
            "5\n",
            "7\n",
            "9\n"
          ]
        }
      ]
    },
    {
      "cell_type": "markdown",
      "source": [
        "Q 17.what are the different names for rows and columns in a dataframe\n",
        "\n",
        "* Ans--Pandas Dataframe type has two attributes called 'columns' and 'index' which can be used to change the column names as well as the row indexes."
      ],
      "metadata": {
        "id": "Vt8ybcdxGKub"
      }
    },
    {
      "cell_type": "markdown",
      "source": [
        "Q.18 what is the major difference between for loop and while loop\n",
        "* The for and while loops are both conditional statements. A for loop is a single-line command that will be executed repeatedly. While loops can be single-lined or contain multiple commands for a single condition. Both the for loop and the while loop are important in computer languages for obtaining results."
      ],
      "metadata": {
        "id": "TCGXlp5hIOXB"
      }
    },
    {
      "cell_type": "code",
      "source": [
        "# Q.19 write a program for factorial in python\n",
        "# Recursion is the concept where a funtion can call itself any number of tiomes that a certain condition is met\n",
        "# The conditions is important to avoid infinite loops\n",
        "\n",
        "def factorial(a):\n",
        "  if a == 1:\n",
        "    return 1\n",
        "  else:\n",
        "    return(a*factorial(a-1))\n",
        "input_num = 5\n",
        "print(\"the fact of\",input_num,'is',factorial(input_num))\n",
        "\n",
        "\n"
      ],
      "metadata": {
        "colab": {
          "base_uri": "https://localhost:8080/"
        },
        "id": "07afftWEDL9s",
        "outputId": "e24c1f27-3cec-4257-d255-22e0278144de"
      },
      "execution_count": null,
      "outputs": [
        {
          "output_type": "stream",
          "name": "stdout",
          "text": [
            "the fact of 5 is 120\n"
          ]
        }
      ]
    },
    {
      "cell_type": "code",
      "source": [
        "def xyz(b):\n",
        "    if b==1:\n",
        "        return 1\n",
        "    else:\n",
        "        return(b*xyz(b-1))\n",
        "num = 5\n",
        "\n",
        "print(xyz(num))"
      ],
      "metadata": {
        "colab": {
          "base_uri": "https://localhost:8080/"
        },
        "id": "yo9dAYukDf49",
        "outputId": "40997ed5-8de7-476c-ee57-f2c38b94477d"
      },
      "execution_count": null,
      "outputs": [
        {
          "output_type": "stream",
          "name": "stdout",
          "text": [
            "120\n"
          ]
        }
      ]
    },
    {
      "cell_type": "code",
      "source": [
        "sss=int(input())\n",
        "def xyz(b):\n",
        "    if b==1:\n",
        "        return 1\n",
        "    else:\n",
        "        return(b*xyz(b-1))\n",
        "\n",
        "print(xyz(num))"
      ],
      "metadata": {
        "colab": {
          "base_uri": "https://localhost:8080/"
        },
        "id": "bmVMFTTRMD_V",
        "outputId": "aaf9c506-a992-4f13-820d-0c000cf472d8"
      },
      "execution_count": null,
      "outputs": [
        {
          "output_type": "stream",
          "name": "stdout",
          "text": [
            "5\n",
            "120\n"
          ]
        }
      ]
    },
    {
      "cell_type": "code",
      "source": [
        "ss=int(input())\n",
        "def factorial(q):\n",
        "  if q==1:\n",
        "      return 1\n",
        "  else:\n",
        "    return (q*factorial(q-1))\n",
        "print(factorial(num))"
      ],
      "metadata": {
        "colab": {
          "base_uri": "https://localhost:8080/"
        },
        "id": "xBdNQfd4nTnc",
        "outputId": "cb93b781-2433-4c13-9183-9ecc48951768"
      },
      "execution_count": null,
      "outputs": [
        {
          "output_type": "stream",
          "name": "stdout",
          "text": [
            "5\n",
            "120\n"
          ]
        }
      ]
    },
    {
      "cell_type": "code",
      "source": [
        "# using numpy\n",
        "import numpy as np\n",
        "n = 5\n",
        "x = np.prod([i for i in range(1,n+1)])\n",
        "print(x)"
      ],
      "metadata": {
        "colab": {
          "base_uri": "https://localhost:8080/"
        },
        "id": "4PE9nEiPNxVC",
        "outputId": "b688e492-c0e7-4ad7-c873-b4724f5fe392"
      },
      "execution_count": null,
      "outputs": [
        {
          "output_type": "stream",
          "name": "stdout",
          "text": [
            "120\n"
          ]
        }
      ]
    },
    {
      "cell_type": "code",
      "source": [],
      "metadata": {
        "id": "IbMeubyYglE7"
      },
      "execution_count": null,
      "outputs": []
    },
    {
      "cell_type": "code",
      "source": [
        "#Q20.Python3 Program to find sum of square of first n natural numbers Return the sum of square of first natural numbers\n",
        "\n",
        "def squaresum(n) :\n",
        "\treturn (n * (n + 1) * (2 * n + 1)) // 6\n",
        "\n",
        "# Driven Program\n",
        "n = 6\n",
        "print(squaresum(n))\n",
        "\n"
      ],
      "metadata": {
        "colab": {
          "base_uri": "https://localhost:8080/"
        },
        "id": "EotkK8pWOf8Y",
        "outputId": "45a70c02-ca9f-4c4f-93eb-b6a1daf9631d"
      },
      "execution_count": null,
      "outputs": [
        {
          "output_type": "stream",
          "name": "stdout",
          "text": [
            "91\n"
          ]
        }
      ]
    },
    {
      "cell_type": "code",
      "source": [
        "# Python3 Program to find sum of square of first n natural numbers\n",
        "# Return the sum of square of first nnatural numbers\n",
        "def squaresum(n) :\n",
        "\n",
        "\tsm = 0\n",
        "\tfor i in range(1, n+1) :\n",
        "\t\tsm = sm + (i * i)\n",
        "\t\n",
        "\treturn sm\n",
        "\n",
        "# Driven Program\n",
        "n = 5\n",
        "print(squaresum(n))\n",
        "\n"
      ],
      "metadata": {
        "colab": {
          "base_uri": "https://localhost:8080/"
        },
        "id": "GIRdky8oQqSO",
        "outputId": "a22fea29-5ea0-4c74-a19b-0b4251301adf"
      },
      "execution_count": null,
      "outputs": [
        {
          "output_type": "stream",
          "name": "stdout",
          "text": [
            "55\n"
          ]
        }
      ]
    },
    {
      "cell_type": "code",
      "source": [
        "num = int(input())\n",
        "def xyz(num):\n",
        "  s = 0\n",
        "  for i in range(1,num+1):\n",
        "    s = s+(i * i)\n",
        "  return s\n",
        "print(xyz(num))\n"
      ],
      "metadata": {
        "colab": {
          "base_uri": "https://localhost:8080/"
        },
        "id": "QvcoovS3UK_y",
        "outputId": "b8a9e0a7-a6b7-40d4-cac8-1f73c4d0b1fd"
      },
      "execution_count": null,
      "outputs": [
        {
          "output_type": "stream",
          "name": "stdout",
          "text": [
            "5\n",
            "55\n"
          ]
        }
      ]
    },
    {
      "cell_type": "code",
      "source": [
        "sum = int(input())\n",
        "def qqq(sum):\n",
        "  r = 0\n",
        "  for i in range(1,sum+1):\n",
        "    r = r+(i*i)\n",
        "  return r\n",
        "print(qqq(sum))"
      ],
      "metadata": {
        "colab": {
          "base_uri": "https://localhost:8080/"
        },
        "id": "rH9NjEdHqyAo",
        "outputId": "9a957ebe-318f-4a1b-9494-bc09b33bcedc"
      },
      "execution_count": null,
      "outputs": [
        {
          "output_type": "stream",
          "name": "stdout",
          "text": [
            "5\n",
            "55\n"
          ]
        }
      ]
    },
    {
      "cell_type": "markdown",
      "source": [
        "Q21.Can we write every loop as list comprehension in Python?\n",
        "* Yes, sort of. You can convert nested for loops to list comprehensions, and even use variable assignment with :=\n",
        "* Every list comprehension can be rewritten as a for loop but not every for loop can be rewritten as a list comprehension "
      ],
      "metadata": {
        "id": "oY1kemvki8Xq"
      }
    },
    {
      "cell_type": "code",
      "source": [
        "# Q4. Write a python program to find uncommon words from a string.\n",
        "def UncommonWords(A, B):\n",
        "   count = {} \n",
        "   for word in A.split(): \n",
        "     count[word] = count.get(word, 0) + 1\n",
        "   for word in B.split(): \n",
        "        count[word] = count.get(word, 0) + 1\n",
        "   return [word for word in count if count[word] == 1]\n",
        "A = \"Almabetter\" B = \"Learning from Almabe\n",
        "\n",
        "print(UncommonWords(A, B))\n",
        "\n"
      ],
      "metadata": {
        "id": "HNQQfbiUUPv1",
        "colab": {
          "base_uri": "https://localhost:8080/",
          "height": 130
        },
        "outputId": "519ecc06-bbca-47fd-9514-d7dd253aab2f"
      },
      "execution_count": null,
      "outputs": [
        {
          "output_type": "error",
          "ename": "IndentationError",
          "evalue": "ignored",
          "traceback": [
            "\u001b[0;36m  File \u001b[0;32m\"<ipython-input-71-9043b23f6cbe>\"\u001b[0;36m, line \u001b[0;32m9\u001b[0m\n\u001b[0;31m    A = \"Almabetter\" B = \"Learning from Almabe\u001b[0m\n\u001b[0m    ^\u001b[0m\n\u001b[0;31mIndentationError\u001b[0m\u001b[0;31m:\u001b[0m unexpected indent\n"
          ]
        }
      ]
    },
    {
      "cell_type": "markdown",
      "source": [
        "question github"
      ],
      "metadata": {
        "id": "quX7bQz95Yww"
      }
    },
    {
      "cell_type": "code",
      "source": [
        "# write a python progarm to count the number of characters ( chatacter frequency) in string"
      ],
      "metadata": {
        "id": "q4mkjFEUfj2V"
      },
      "execution_count": null,
      "outputs": []
    },
    {
      "cell_type": "code",
      "source": [
        "str = input()\n",
        "y = {}\n",
        "for x in str.lower():\n",
        "  if x in y:\n",
        "    y[x] +=1\n",
        "  else:\n",
        "    y[x] = 1\n",
        "print(y)"
      ],
      "metadata": {
        "id": "NM7H29AKfj51",
        "colab": {
          "base_uri": "https://localhost:8080/"
        },
        "outputId": "856611b6-ebc1-4a19-960c-7433dfa6df1d"
      },
      "execution_count": null,
      "outputs": [
        {
          "output_type": "stream",
          "name": "stdout",
          "text": [
            "sumit rameshawar gaikwad\n",
            "{'s': 2, 'u': 1, 'm': 2, 'i': 2, 't': 1, ' ': 2, 'r': 2, 'a': 5, 'e': 1, 'h': 1, 'w': 2, 'g': 1, 'k': 1, 'd': 1}\n"
          ]
        }
      ]
    },
    {
      "cell_type": "code",
      "source": [
        "strng = input()\n",
        "dic = dict()\n",
        "l = []\n",
        "for i in strng.lower():\n",
        "  l.append(i)\n",
        "\n",
        "\n",
        "s = []\n",
        "for k in range(len(strng)):\n",
        "  s.append(l.count(l[k]))\n",
        "\n",
        "l5 = list(zip(l,s))\n",
        "dict(l5)"
      ],
      "metadata": {
        "id": "vFBnVZ7LfkAp",
        "colab": {
          "base_uri": "https://localhost:8080/"
        },
        "outputId": "94adf891-95a8-4d59-b702-649f0032cbfa"
      },
      "execution_count": null,
      "outputs": [
        {
          "name": "stdout",
          "output_type": "stream",
          "text": [
            "Sumit Rameshawar Gaikwad\n"
          ]
        },
        {
          "output_type": "execute_result",
          "data": {
            "text/plain": [
              "{'s': 2,\n",
              " 'u': 1,\n",
              " 'm': 2,\n",
              " 'i': 2,\n",
              " 't': 1,\n",
              " ' ': 2,\n",
              " 'r': 2,\n",
              " 'a': 5,\n",
              " 'e': 1,\n",
              " 'h': 1,\n",
              " 'w': 2,\n",
              " 'g': 1,\n",
              " 'k': 1,\n",
              " 'd': 1}"
            ]
          },
          "metadata": {},
          "execution_count": 3
        }
      ]
    },
    {
      "cell_type": "code",
      "source": [
        "# Q.Write a function which calculates the mode of a list of numbers. If there are two modes in the dataset, it should return both."
      ],
      "metadata": {
        "id": "7q27w2QFfkJu"
      },
      "execution_count": null,
      "outputs": []
    },
    {
      "cell_type": "code",
      "source": [
        "# Find mode with count: only one mode occuring first\n",
        "# packages\n",
        "from scipy import stats as st\n",
        "import numpy as np\n",
        "\n",
        "# creating an array using array() method\n",
        "l = np.array([1,2,3,4,5,5,5,4,3,2,1,2,0])\n",
        "\n",
        "# applying mode operation on array and\n",
        "# printing result\n",
        "print(st.mode(l))"
      ],
      "metadata": {
        "id": "YwOK71Gwfk3P",
        "colab": {
          "base_uri": "https://localhost:8080/"
        },
        "outputId": "422da99e-bf3d-4228-8d33-ac25d3d81ee5"
      },
      "execution_count": null,
      "outputs": [
        {
          "output_type": "stream",
          "name": "stdout",
          "text": [
            "ModeResult(mode=array([2]), count=array([3]))\n"
          ]
        }
      ]
    },
    {
      "cell_type": "code",
      "source": [
        "# Q.The included code stub will read an integer, , from STDIN.\n",
        "\n",
        "#Without using any string methods, try to print the following:\n",
        "\n",
        "#12345...n\n",
        "\n",
        "#Note that \"\" represents the consecutive values in between.\n",
        "\n",
        "#Example n = 5\n",
        "\n",
        "#Print the string 12345.\n",
        "n = int(input())\n",
        "for i in range(1,n+1):\n",
        "  print(i, end = \"\")\n",
        "     "
      ],
      "metadata": {
        "id": "vaEqWjO6flKq",
        "colab": {
          "base_uri": "https://localhost:8080/"
        },
        "outputId": "5b1f926d-c5f0-45bc-eeee-1c8079326ba4"
      },
      "execution_count": null,
      "outputs": [
        {
          "output_type": "stream",
          "name": "stdout",
          "text": [
            "5\n",
            "12345"
          ]
        }
      ]
    },
    {
      "cell_type": "code",
      "source": [
        "# Q.Consider a series 1+ 2+ 3+ 4+ 5 +..., ge the value of n from the userprint addition of the first n natural numbers whithout using loops and by using loops\n",
        "# loop\n",
        "n = int(input('number: '))\n",
        "sum = 0\n",
        "for i in range (1, n+1):\n",
        "  sum = sum +i\n",
        "print(sum)"
      ],
      "metadata": {
        "colab": {
          "base_uri": "https://localhost:8080/"
        },
        "id": "hJucqW-l8kUP",
        "outputId": "2a7cc078-1179-43ef-97ad-9905520a9c6b"
      },
      "execution_count": null,
      "outputs": [
        {
          "output_type": "stream",
          "name": "stdout",
          "text": [
            "number: 5\n",
            "15\n"
          ]
        }
      ]
    },
    {
      "cell_type": "code",
      "source": [
        "# Q.create a program to get a string from user and checks that is palindrome or not.\n",
        "\n",
        "x = input('string:')\n",
        "if x[::-1] == x[::] :\n",
        "  print('x is polindrome')\n",
        "else:\n",
        "  print(' x is not polindome')"
      ],
      "metadata": {
        "colab": {
          "base_uri": "https://localhost:8080/"
        },
        "id": "vUTj9H08-GrA",
        "outputId": "05ffd77d-5192-4cdb-ec4a-07ba288a5fa8"
      },
      "execution_count": null,
      "outputs": [
        {
          "output_type": "stream",
          "name": "stdout",
          "text": [
            "string:ssuuss\n",
            "x is polindrome\n"
          ]
        }
      ]
    },
    {
      "cell_type": "markdown",
      "source": [
        "<B> Q **100** python question\n",
        "\n",
        "```\n",
        "\n"
      ],
      "metadata": {
        "id": "eX6rbZ3xpOAH"
      }
    },
    {
      "cell_type": "code",
      "source": [
        "# 1.User will input (3ages).Find the oldest one\n",
        "\n",
        "a = int(input('enter the first age'))\n",
        "b = int(input('enter the second age'))\n",
        "c = int(input('enter the third age'))\n",
        "max = a\n",
        "if max < b:\n",
        "  max= b\n",
        "if max < c:\n",
        "  max = c\n",
        "print(max)"
      ],
      "metadata": {
        "colab": {
          "base_uri": "https://localhost:8080/"
        },
        "id": "A693Y7J5_Bp-",
        "outputId": "e09d7bd6-af43-46a8-eacd-8c6b5c5a3b9b"
      },
      "execution_count": null,
      "outputs": [
        {
          "output_type": "stream",
          "name": "stdout",
          "text": [
            "enter the first age45\n",
            "enter the second age51\n",
            "enter the third age62\n",
            "62\n"
          ]
        }
      ]
    },
    {
      "cell_type": "code",
      "source": [
        "# 2.2.Write a program that will convert celsius value to fahrenheit\n",
        "temp = float(input('Enter temp in celcius'))\n",
        "fahrenheit = (temp *1.8)+32\n",
        "print(fahrenheit)"
      ],
      "metadata": {
        "colab": {
          "base_uri": "https://localhost:8080/"
        },
        "id": "fQ0jaDGW_Uw8",
        "outputId": "46ab2473-39e0-4a06-a330-171f46f2a962"
      },
      "execution_count": null,
      "outputs": [
        {
          "output_type": "stream",
          "name": "stdout",
          "text": [
            "Enter temp in celcius56\n",
            "132.8\n"
          ]
        }
      ]
    },
    {
      "cell_type": "code",
      "source": [
        "# 3.3.User will input (2numbers).Write a program to swap the numbers\n",
        "a = int(input('enter first num'))\n",
        "b = int(input('enter second num'))\n",
        "# swaping\n",
        "c = a\n",
        "a = b\n",
        "b = c\n",
        "print('value of a:',a)\n",
        "print('value of b:',b)\n"
      ],
      "metadata": {
        "colab": {
          "base_uri": "https://localhost:8080/"
        },
        "id": "duGoD5X0trws",
        "outputId": "a9a8b7e7-72e2-4455-db81-5aa642ed3d4a"
      },
      "execution_count": null,
      "outputs": [
        {
          "output_type": "stream",
          "name": "stdout",
          "text": [
            "enter first num5\n",
            "enter second num10\n",
            "value of a: 10\n",
            "value of b: 5\n"
          ]
        }
      ]
    },
    {
      "cell_type": "code",
      "source": [
        "#4.Write a program that will give you the sum of 3 digits\n",
        "\n",
        "num = int(input('Enter three digit number'))\n",
        "\n",
        "a = num % 10 #(123 % 10 = 3)\n",
        "num = num//10 #(123//10 =12)\n",
        "b = num % 10 #(12%10=2)\n",
        "c = num//10 # (12//10=1)\n",
        "\n",
        "rev = (a+b+c)\n",
        "print(rev)\n",
        "\n",
        "\n",
        "\n"
      ],
      "metadata": {
        "colab": {
          "base_uri": "https://localhost:8080/"
        },
        "id": "2IRcR44TtrtU",
        "outputId": "13ded099-f7e4-4613-9a6b-d3bc900c6ecb"
      },
      "execution_count": null,
      "outputs": [
        {
          "output_type": "stream",
          "name": "stdout",
          "text": [
            "Enter three digit number123\n",
            "6\n"
          ]
        }
      ]
    },
    {
      "cell_type": "code",
      "source": [
        "# 5.Write a program that will reverse a four digit number.Also it checks whether the reverse is true.\n",
        "# user input\n",
        "\n",
        "user_input = int(input('Enter the four digits num'))\n",
        "num = user_input\n",
        "# digits\n",
        "a = num % 10\n",
        "num = num//10\n",
        "\n",
        "b = num % 10\n",
        "num = num//10\n",
        "\n",
        "c= num % 10\n",
        "d = num//10\n",
        "\n",
        "# formula\n",
        "rev = 1000*a + 100*b + 10*c + d\n",
        "print('orginal num-',user_input)\n",
        "print('reverse num-',rev)\n",
        "#check\n",
        "if user_input == rev:\n",
        "  print('True')\n",
        "else:\n",
        "  print('False')\n"
      ],
      "metadata": {
        "colab": {
          "base_uri": "https://localhost:8080/"
        },
        "id": "zQT5IeHqtrqh",
        "outputId": "fef5e044-d62d-4e90-c8bd-bec6e73a59cd"
      },
      "execution_count": null,
      "outputs": [
        {
          "output_type": "stream",
          "name": "stdout",
          "text": [
            "Enter the four digits num1234\n",
            "orginal num- 1234\n",
            "reverse num- 4321\n",
            "False\n"
          ]
        }
      ]
    },
    {
      "cell_type": "code",
      "source": [
        "# 6.Write a program that will tell whether the number entered by the user is odd or even.\n",
        "x = int(input('Enter your num'))\n",
        "\n",
        "if x % 2 == 0:\n",
        "  print('even')\n",
        "else:\n",
        "  print('old')"
      ],
      "metadata": {
        "colab": {
          "base_uri": "https://localhost:8080/"
        },
        "id": "oDOotOAWtrnp",
        "outputId": "8052b6c2-0e05-4083-bd51-87dd87efa6ec"
      },
      "execution_count": null,
      "outputs": [
        {
          "output_type": "stream",
          "name": "stdout",
          "text": [
            "Enter your num7\n",
            "old\n"
          ]
        }
      ]
    },
    {
      "cell_type": "code",
      "source": [
        "#7.Write a program that will tell whether the given year is a leap year or not.\n",
        "year = int(input('Enter the year'))\n",
        "\n",
        "if year % 4 == 0:\n",
        "  print('leap year')\n",
        "else:\n",
        "  print('not leap year')\n",
        "\n"
      ],
      "metadata": {
        "colab": {
          "base_uri": "https://localhost:8080/"
        },
        "id": "qHAXZ-qPtrka",
        "outputId": "5d8dadaa-04f9-4c66-b559-14bf06da49f3"
      },
      "execution_count": null,
      "outputs": [
        {
          "output_type": "stream",
          "name": "stdout",
          "text": [
            "Enter the year1997\n",
            "not leap year\n"
          ]
        }
      ]
    },
    {
      "cell_type": "code",
      "source": [
        "#8.Write a program to find the euclidean distance between two coordinates.\n",
        "x_1 = float(input('Enter x1 of x coordinate'))\n",
        "y_1 = float(input('Enter y1 of y coordinate'))\n",
        "x_2 = float(input('Enter x2 of x coordinate'))\n",
        "y_2 = float(input('Enter y2 of y coordinate'))\n",
        "\n",
        "d = ((x_2 - x_1)**2 + (y_2 - y_1)**2)**0.5\n",
        "print(d)"
      ],
      "metadata": {
        "colab": {
          "base_uri": "https://localhost:8080/"
        },
        "id": "gTe8HALjtriw",
        "outputId": "5a935e1a-4dc5-474f-96dd-cd0da26c5531"
      },
      "execution_count": null,
      "outputs": [
        {
          "output_type": "stream",
          "name": "stdout",
          "text": [
            "Enter x1 of x coordinate55\n",
            "Enter y1 of y coordinate44\n",
            "Enter x2 of x coordinate66\n",
            "Enter y2 of y coordinate77\n",
            "34.785054261852174\n"
          ]
        }
      ]
    },
    {
      "cell_type": "code",
      "source": [
        "#9.Write a program that take a user inputr of three angles and will find out whether it can form a triangle or not.\n",
        "a = int(input('Enter your frist angle:'))\n",
        "b = int(input('Enter your second angle:'))\n",
        "c = int(input('Enter your third angle:'))\n",
        "\n",
        "if a + b + c == 180 and a!=0 and b!=0 and c!=0:\n",
        "   print('yes')\n",
        "else:\n",
        "  print('Not')\n"
      ],
      "metadata": {
        "colab": {
          "base_uri": "https://localhost:8080/"
        },
        "id": "Rqy_ULiktrQe",
        "outputId": "327a1e21-3a8d-4a00-fdf2-cc820be0da8a"
      },
      "execution_count": null,
      "outputs": [
        {
          "output_type": "stream",
          "name": "stdout",
          "text": [
            "Enter your frist angle:90\n",
            "Enter your second angle:45\n",
            "Enter your third angle:45\n",
            "yes\n"
          ]
        }
      ]
    },
    {
      "cell_type": "code",
      "source": [
        "#10.Write a program that will take user input of cost price and selling price and determines whether its a loss or a profit\n",
        "\n",
        "cp = float(input('Enter your cost price:'))\n",
        "sp = float(input('Enter your selling price'))\n",
        "\n",
        "if cp > sp:\n",
        "  amt = cp - sp\n",
        "  print('Loss:',amt)\n",
        "else:\n",
        "  amt = sp -cp\n",
        "  print('Profit:',amt)"
      ],
      "metadata": {
        "colab": {
          "base_uri": "https://localhost:8080/"
        },
        "id": "0ItlrrFztrMv",
        "outputId": "ca3a6e69-f7b6-447e-b2c1-779271912d09"
      },
      "execution_count": null,
      "outputs": [
        {
          "output_type": "stream",
          "name": "stdout",
          "text": [
            "Enter your cost price:150\n",
            "Enter your selling price180\n",
            "Profit: 30.0\n"
          ]
        }
      ]
    },
    {
      "cell_type": "code",
      "source": [
        "# 11.Write a program to find the simple interest when the value of principle,rate of interest and time period is given.\n",
        "\n",
        "p= int(input('Enter your principal'))\n",
        "r = int(input('Enter your rate of interest'))\n",
        "t = int(input('Enter your time period in years'))\n",
        "\n",
        "si = (p * r * t)/100\n",
        "print('simple Interst:',si)\n",
        "a = p +si\n",
        "print('Amount is:',a)"
      ],
      "metadata": {
        "colab": {
          "base_uri": "https://localhost:8080/"
        },
        "id": "JPYldadptrKe",
        "outputId": "0b3c9625-27fa-405b-9a31-bbea3f95238e"
      },
      "execution_count": null,
      "outputs": [
        {
          "output_type": "stream",
          "name": "stdout",
          "text": [
            "Enter your principal250000\n",
            "Enter your rate of interest12\n",
            "Enter your time period in years5\n",
            "simple Interst: 150000.0\n",
            "Amount is: 400000.0\n"
          ]
        }
      ]
    },
    {
      "cell_type": "code",
      "source": [
        "#12.Write a program to find the volume of the cylinder. Also find the cost when ,when the cost of 1litre milk is 40Rs.\n",
        "\n",
        "r = float(input('Enter your radius:'))\n",
        "h = float(input('Enter your height:'))\n",
        "\n",
        "v = 3.14*(r**2)*h\n",
        "print('Volume is:',v)\n",
        "cost = v/1000*40\n",
        "print('cost is:','Rs',cost)"
      ],
      "metadata": {
        "colab": {
          "base_uri": "https://localhost:8080/"
        },
        "id": "BdzmBEDotrHu",
        "outputId": "73179b23-39a5-4bf3-bf54-dabcb05e33e9"
      },
      "execution_count": null,
      "outputs": [
        {
          "output_type": "stream",
          "name": "stdout",
          "text": [
            "Enter your radius:4\n",
            "Enter your height:7\n",
            "Volume is: 351.68\n",
            "cost is: Rs 14.0672\n"
          ]
        }
      ]
    },
    {
      "cell_type": "code",
      "source": [
        "# 13.Write  a program that will tell whether the given number is divisible by 3 & 6.\n",
        "\n",
        "num = int(input('Enter your number:'))\n",
        "\n",
        "if num % 3 == 0 and num % 6 ==0:\n",
        "  print(num,'is divisiable by 3 and 6')\n",
        "else:\n",
        "  print(num,'not divisible by 3 and 6')\n"
      ],
      "metadata": {
        "colab": {
          "base_uri": "https://localhost:8080/"
        },
        "id": "dkinu749trE7",
        "outputId": "4abcbeb2-c68c-430c-ed25-118c27bbb352"
      },
      "execution_count": null,
      "outputs": [
        {
          "output_type": "stream",
          "name": "stdout",
          "text": [
            "Enter your number:17\n",
            "17 not divisible by 3 and 6\n"
          ]
        }
      ]
    },
    {
      "cell_type": "code",
      "source": [
        "#16.Write a program that will determine weather when the value of temperature and humidity is provided by the user.\n",
        "TEMPERATURE(C)      HUMIDITY(%)      WEATHER\n",
        "\n",
        "      >= 30                             >=90                Hot and Humid\n",
        "      >= 30                             < 90                 Hot\n",
        "      <30                                >= 90               Cool and Humid\n",
        "      <30                                 <90                 Cool"
      ],
      "metadata": {
        "id": "8B_zeCxWtrCN"
      },
      "execution_count": null,
      "outputs": []
    },
    {
      "cell_type": "code",
      "source": [
        "temp = int(input('Enter temp is celcius:'))\n",
        "humid = int(input('Enter humidity percentage'))\n",
        "\n",
        "if temp >=30 and humid >=90:\n",
        "  print('Hot and Humid')\n",
        "elif temp >=30 and humid <90:\n",
        "  print('Hot')\n",
        "elif temp <30 and humid >=90:\n",
        "  print('Cold and Humid')\n",
        "else:\n",
        "  print('Cold')"
      ],
      "metadata": {
        "colab": {
          "base_uri": "https://localhost:8080/"
        },
        "id": "87e6Asp_f2cb",
        "outputId": "966b8a1f-5510-4a36-cea2-74d262f8b325"
      },
      "execution_count": null,
      "outputs": [
        {
          "output_type": "stream",
          "name": "stdout",
          "text": [
            "Enter temp is celcius:30\n",
            "Enter humidity percentage90\n",
            "Hot and Humid\n"
          ]
        }
      ]
    },
    {
      "cell_type": "code",
      "source": [
        "# 17.Write a program that will take three digits from the user and add the square of each digit.\n",
        "# 1+4+25=30\n",
        "num = int(input('Enter your number'))\n",
        "a = num % 10\n",
        "num = num//10\n",
        "b = num % 10\n",
        "c = num//10\n",
        "\n",
        "add = (a**2) +(b**2) + ( c**2)\n",
        "print('adding square digits is :',add)\n"
      ],
      "metadata": {
        "colab": {
          "base_uri": "https://localhost:8080/"
        },
        "id": "8JjJ23cdf2f2",
        "outputId": "d85386ed-fe18-4b0b-cb6a-0c25b3cefb34"
      },
      "execution_count": null,
      "outputs": [
        {
          "output_type": "stream",
          "name": "stdout",
          "text": [
            "Enter your number125\n",
            "adding square digits is : 30\n"
          ]
        }
      ]
    },
    {
      "cell_type": "code",
      "source": [
        "# 18.Write a program that will check whether the number is armstrong number or not.\n",
        "# 153\n",
        "# (1**3)+(5**3)+(3**3) = 1+125+27=153\n",
        "\n",
        "user_input = int(input('Enter your number:'))\n",
        "num = user_input\n",
        "\n",
        "a = num % 10\n",
        "num = num //10\n",
        "b = num % 10\n",
        "c = num//10\n",
        "\n",
        "if (a**3) +(b**3)+(c**3) == user_input:\n",
        "  print('Armstrong number')\n",
        "else:\n",
        "  print('Not an Armstorng Number')\n",
        "\n"
      ],
      "metadata": {
        "colab": {
          "base_uri": "https://localhost:8080/"
        },
        "id": "VVXQncjsf2jN",
        "outputId": "896ed6e1-e76a-4866-9540-782a4f9f5006"
      },
      "execution_count": null,
      "outputs": [
        {
          "output_type": "stream",
          "name": "stdout",
          "text": [
            "Enter your number:153\n",
            "Armstrong number\n"
          ]
        }
      ]
    },
    {
      "cell_type": "code",
      "source": [
        "# 19.Write a program that will take user input of (4 digits number) and check whether the number is narcissist number or not.\n",
        "\n",
        "user_input = int(input('Enter a four digits number'))\n",
        "num = user_input\n",
        "\n",
        "a = num % 10\n",
        "num = num //10\n",
        "b = num % 10\n",
        "num = num //10\n",
        "c = num%10\n",
        "d = num //10\n",
        "\n",
        "if (a**4) +(b**4)+(c**4)+(d**4) == user_input:\n",
        "  print('narcissist number:')\n",
        "else:\n",
        "  print('Not a Narcissictic number:')\n",
        " \n"
      ],
      "metadata": {
        "colab": {
          "base_uri": "https://localhost:8080/"
        },
        "id": "u8Ap2327f2mQ",
        "outputId": "5bf0a7f2-9a20-43e7-9009-0ce0398b8f8a"
      },
      "execution_count": null,
      "outputs": [
        {
          "output_type": "stream",
          "name": "stdout",
          "text": [
            "Enter a four digits number8208\n",
            "narcissist number:\n"
          ]
        }
      ]
    },
    {
      "cell_type": "code",
      "source": [
        "# 20.Write a program that will give you the in hand salary after deduction of HRA(10%),DA(5%),PF(3%), and tax(if salary is between 5-10 lakh–10%),(11-20lakh–20%),(20< _   – 30%)(0-1lakh print k).\n",
        "\n",
        "user_input = float(input('Enter annual salary'))\n",
        "\n",
        "if user_input > 500000 and user_input < 1000000:\n",
        "  tax = (10/100)*usre_input\n",
        "  temp_salary = user_input - tax\n",
        "elif user_input > 1000000 and user_input <200000:\n",
        "  tax = (20/100)*user_input\n",
        "  temp_salary = user_input\n",
        "else:\n",
        "  tax = (30/100)*user_input\n",
        "  temp_salary = user_input - tax\n",
        "\n",
        "print('After salary reduction:',temp_salary)\n",
        "\n",
        "hra = (10/100)*temp_salary\n",
        "da = (5/100)*temp_salary\n",
        "pf = (3/100)*temp_salary\n",
        "\n",
        "In_handsalary = (temp_salary - hra -da -pf)/12\n",
        "print('In Hand salary is :',In_handsalary)\n",
        "\n",
        "if In_handsalary <= 999:\n",
        "  print(In_handsalary)\n",
        "elif In_handsalary >= 1000 and In_handsalary <=9999:\n",
        "  print(In_handsalary/1000,'k')\n",
        "elif In_handsalary >=100000 and In_handsalary <=99999999:\n",
        "  print(In_handsalary/1000000,'l')\n",
        "else:\n",
        "  print(In_handsalary/10000000,'Cr')\n",
        "\n"
      ],
      "metadata": {
        "colab": {
          "base_uri": "https://localhost:8080/"
        },
        "id": "G6RLNJztf2pC",
        "outputId": "6a82bfff-98aa-4ba8-ce72-8db4b919cd57"
      },
      "execution_count": null,
      "outputs": [
        {
          "output_type": "stream",
          "name": "stdout",
          "text": [
            "Enter annual salary1600000\n",
            "After salary reduction: 1120000.0\n",
            "In Hand salary is : 76533.33333333333\n",
            "0.007653333333333333 Cr\n"
          ]
        }
      ]
    },
    {
      "cell_type": "code",
      "source": [
        "#21.Write a menu driven program - 1.cm to ft  2.kl to miles  3.usd to inr  4.exit\n",
        "\n",
        "user_input = input(''' Hi welcome to my page\n",
        "what would you like bto do?\n",
        "\n",
        "1.Convert cm to inches\n",
        "2. Convert km to miles\n",
        "3. Convert usd to inr\n",
        "4.Exit ''')\n",
        "\n",
        "if user_input == '1':\n",
        "  cm = float(input('Enter value in cm'))\n",
        "  inch = cm * 0.349\n",
        "  print('value in inch is-',inch)\n",
        "elif user_input == '2':\n",
        "  km = float(input('Enter value in km'))\n",
        "  mile = km * 0.621\n",
        "  print('value in miles is-',mile)\n",
        "elif user_input == '3':\n",
        "  usd = float(input('Enter value in usd'))\n",
        "  inr = usd * 76.63\n",
        "  print('value in inr is',inr)\n",
        "else:\n",
        "  print('Exit')"
      ],
      "metadata": {
        "id": "WNKqtOYnf2r5",
        "colab": {
          "base_uri": "https://localhost:8080/"
        },
        "outputId": "f6c90fec-37bf-4551-c0d8-b2f4e67d216f"
      },
      "execution_count": null,
      "outputs": [
        {
          "output_type": "stream",
          "name": "stdout",
          "text": [
            " Hi welcome to my page\n",
            "what would you like bto do?\n",
            "\n",
            "1.Convert cm to inches\n",
            "2. Convert km to miles\n",
            "3. Convert usd to inr\n",
            "4.Exit 2\n",
            "Enter value in km5\n",
            "value in miles is- 3.105\n"
          ]
        }
      ]
    },
    {
      "cell_type": "code",
      "source": [
        "# 22.Write a program that will tell the number of dogs and chicken are there when the user will provide the value of total heads and legs.\n"
      ],
      "metadata": {
        "id": "zT0QhI1Gf2uW"
      },
      "execution_count": null,
      "outputs": []
    },
    {
      "cell_type": "code",
      "source": [
        "# 23.23.Write a program that will swap numbers\n",
        "\n",
        "a = int(input('Enter frist number'))\n",
        "b = int(input('Enter second number'))\n",
        "\n",
        "a = a + b\n",
        "b = a - b\n",
        "a = a - b\n",
        "print('After swapping:')\n",
        "print(' a is:',a)\n",
        "print(' b is:',b)\n"
      ],
      "metadata": {
        "id": "LIa1IqCVf2xP",
        "colab": {
          "base_uri": "https://localhost:8080/"
        },
        "outputId": "dc750210-c76f-49e0-9e81-ffc3e9ca263f"
      },
      "execution_count": null,
      "outputs": [
        {
          "output_type": "stream",
          "name": "stdout",
          "text": [
            "Enter frist number5\n",
            "Enter second number10\n",
            "After swapping:\n",
            " a is: 10\n",
            " b is: 5\n"
          ]
        }
      ]
    },
    {
      "cell_type": "code",
      "source": [
        "# 24 24.Write a program to find the sum of first n numbers, where n will be provided by the user. Eg if the user provides n=10 the output should be 55.\n",
        "\n",
        "n = int(input('Enter number:'))\n",
        "s = n *(n + 1)/2\n",
        "print('Sum is :',s)"
      ],
      "metadata": {
        "id": "XwvCXwXuf20x",
        "colab": {
          "base_uri": "https://localhost:8080/"
        },
        "outputId": "e46f626d-c0ad-42f3-a113-3a85409a779f"
      },
      "execution_count": null,
      "outputs": [
        {
          "output_type": "stream",
          "name": "stdout",
          "text": [
            "Enter number:5\n",
            "Sum is : 15.0\n"
          ]
        }
      ]
    },
    {
      "cell_type": "code",
      "source": [
        "#25.Write a program that can multiply 2 numbers provided by the user without using the * operator\n",
        "\n",
        "first_num = int(input('frist num:'))\n",
        "sec_num = int(input('second num:'))\n",
        "sum = 0\n",
        "for i in range(0,first_num):\n",
        "  sum = sum + sec_num\n",
        "print('result is :',sum)\n"
      ],
      "metadata": {
        "id": "I8gUKNGZf23c",
        "colab": {
          "base_uri": "https://localhost:8080/"
        },
        "outputId": "a5056945-a8f8-4c37-c61a-3ebb455eab6d"
      },
      "execution_count": null,
      "outputs": [
        {
          "output_type": "stream",
          "name": "stdout",
          "text": [
            "frist num:5\n",
            "second num:10\n",
            "result is : 50\n"
          ]
        }
      ]
    },
    {
      "cell_type": "code",
      "source": [
        "# 26.Write a program that can find the factorial of a given number provided by the user.\n",
        "\n",
        "num = int(input('Enter number'))\n",
        "\n",
        "i = 1\n",
        "if num > 0:\n",
        "  while num >= 1:\n",
        "    i = i * num\n",
        "    num = num - 1\n",
        "  print('Factorial of the given number is :',i)\n",
        "else:\n",
        "  print(' Not possiable')\n",
        "\n"
      ],
      "metadata": {
        "id": "_ewbYQpef26m",
        "colab": {
          "base_uri": "https://localhost:8080/"
        },
        "outputId": "97846947-87c6-4028-a2d9-4c6f383546dc"
      },
      "execution_count": null,
      "outputs": [
        {
          "output_type": "stream",
          "name": "stdout",
          "text": [
            "Enter number5\n",
            "Factorial of the given number is : 120\n"
          ]
        }
      ]
    },
    {
      "cell_type": "code",
      "source": [
        "#27.Write a program to print the first 25 odd numbers\n",
        "\n",
        "flag = 0 \n",
        "i = 1\n",
        "while True:\n",
        "  if i % 2 != 0:\n",
        "    print(i)\n",
        "    flag = flag + 1\n",
        "  if flag == 25:\n",
        "    break\n",
        "  i = i +1"
      ],
      "metadata": {
        "colab": {
          "base_uri": "https://localhost:8080/"
        },
        "id": "dWXtx52ZZFGc",
        "outputId": "2fdebcb8-56ee-4a81-8ebd-251e174f0d5a"
      },
      "execution_count": null,
      "outputs": [
        {
          "output_type": "stream",
          "name": "stdout",
          "text": [
            "1\n",
            "3\n",
            "5\n",
            "7\n",
            "9\n",
            "11\n",
            "13\n",
            "15\n",
            "17\n",
            "19\n",
            "21\n",
            "23\n",
            "25\n",
            "27\n",
            "29\n",
            "31\n",
            "33\n",
            "35\n",
            "37\n",
            "39\n",
            "41\n",
            "43\n",
            "45\n",
            "47\n",
            "49\n"
          ]
        }
      ]
    },
    {
      "cell_type": "code",
      "source": [
        "#28.Write a program to print whether a given number is prime number or not\n",
        "\n",
        "num = int(input('Enter number'))\n",
        "\n",
        "if num == 2:\n",
        "  print('Prime number')\n",
        "elif num > 1:\n",
        "  for i in range(2,num):\n",
        "    if (num % i) == 0:\n",
        "      print(num,\"is not prime n number\")\n",
        "      break\n",
        "    else:\n",
        "      print(num,'is a prime number')\n",
        "      break\n",
        "  else:\n",
        "    print(num,\"is not prime number\")"
      ],
      "metadata": {
        "colab": {
          "base_uri": "https://localhost:8080/"
        },
        "id": "M0m_EXQsZFJz",
        "outputId": "d453ad4f-f369-41de-c73d-09d46031ff1f"
      },
      "execution_count": null,
      "outputs": [
        {
          "output_type": "stream",
          "name": "stdout",
          "text": [
            "Enter number25\n",
            "25 is a prime number\n"
          ]
        }
      ]
    },
    {
      "cell_type": "code",
      "source": [
        "# 29.Print all the armstrong numbers in the range of 100 to 1000\n",
        "for num in range(100,1000):\n",
        "\n",
        "  i=num\n",
        "  a = num % 10\n",
        "  num = num // 10\n",
        "  b = num % 10\n",
        "  c = num // 10\n",
        "\n",
        "  if (a**3) +(b**3) +(c**3) == i:\n",
        "      print(i)\n",
        "  i = i + 1\n"
      ],
      "metadata": {
        "colab": {
          "base_uri": "https://localhost:8080/"
        },
        "id": "jJk2ujpdZFNd",
        "outputId": "deec076c-99b2-4187-bfa4-7004cf322307"
      },
      "execution_count": null,
      "outputs": [
        {
          "output_type": "stream",
          "name": "stdout",
          "text": [
            "153\n",
            "370\n",
            "371\n",
            "407\n"
          ]
        }
      ]
    },
    {
      "cell_type": "code",
      "source": [
        "# 30.The current population of a town is 10000. The population of the town is increasing at the rate of 10% per year. You have to write a program to find out the population at the end of each of the last 10 years. For eg current population is 10000 so the output should be like this:\n",
        "10th year - 10000\n",
        "9th year - 9000\n",
        "8th year - 8100 and so on"
      ],
      "metadata": {
        "id": "aFLo-XbUZFYg"
      },
      "execution_count": null,
      "outputs": []
    },
    {
      "cell_type": "code",
      "source": [
        "flag = 0\n",
        "a = 10000\n",
        "print(a)\n",
        "\n",
        "while True:\n",
        "  b = (a) - ((10*a)/100)\n",
        "  a = b\n",
        "  print(int(b))\n",
        "  flag = flag + 1\n",
        "\n",
        "  if flag == 9:\n",
        "    break\n"
      ],
      "metadata": {
        "colab": {
          "base_uri": "https://localhost:8080/"
        },
        "id": "gVcZpHqrZFcA",
        "outputId": "141ffe86-b34c-4bee-b5f1-6d63f95a35e1"
      },
      "execution_count": null,
      "outputs": [
        {
          "output_type": "stream",
          "name": "stdout",
          "text": [
            "10000\n",
            "9000\n",
            "8100\n",
            "7290\n",
            "6561\n",
            "5904\n",
            "5314\n",
            "4782\n",
            "4304\n",
            "3874\n"
          ]
        }
      ]
    },
    {
      "cell_type": "code",
      "source": [
        "# 31.Write a program to print all the unique combinations of 1,2,3 and 4\n",
        "\n",
        "for i in range(1,5):\n",
        "  for j in range (1,5):\n",
        "    if(i != j):\n",
        "      print(i,j)\n"
      ],
      "metadata": {
        "colab": {
          "base_uri": "https://localhost:8080/"
        },
        "id": "SNzspwUVnxfk",
        "outputId": "de59d361-16d1-46da-cf59-bc7d4ff1a206"
      },
      "execution_count": null,
      "outputs": [
        {
          "output_type": "stream",
          "name": "stdout",
          "text": [
            "1 2\n",
            "1 3\n",
            "1 4\n",
            "2 1\n",
            "2 3\n",
            "2 4\n",
            "3 1\n",
            "3 2\n",
            "3 4\n",
            "4 1\n",
            "4 2\n",
            "4 3\n"
          ]
        }
      ]
    },
    {
      "cell_type": "code",
      "source": [
        "# 32.User will provide 2 numbers you have to find the HCF of those 2 numbers\n",
        "\n",
        "a = int(input('Enter the first number:'))\n",
        "b = int(input('Enter the second number:'))\n",
        "\n",
        "while a % b != 0:\n",
        "  rem = a % b\n",
        "  a = b\n",
        "  b = rem\n",
        "print('your HcF is:',b)"
      ],
      "metadata": {
        "colab": {
          "base_uri": "https://localhost:8080/"
        },
        "id": "vJEDxWJroqr5",
        "outputId": "bbb0920b-c3aa-49be-a1a6-a57f88bd01e8"
      },
      "execution_count": null,
      "outputs": [
        {
          "output_type": "stream",
          "name": "stdout",
          "text": [
            "Enter the first number:8\n",
            "Enter the second number:9\n",
            "your HcF is: 1\n"
          ]
        }
      ]
    },
    {
      "cell_type": "code",
      "source": [
        "# 33.User will provide 2 numbers you have to find the by LCM of those 2 numbers\n",
        "\n",
        "a = int(input('Enter the first number:'))\n",
        "num_1 = a\n",
        "b = int(input('Enter the second number:'))\n",
        "num_2 = b\n",
        "\n",
        "while num_1 % num_2 != 0:\n",
        "  rem = num_1 % num_2\n",
        "  num_1 = num_2\n",
        "  num_2 = rem\n",
        "hcf = num_2\n",
        "\n",
        "lcm = (a * b)/hcf\n",
        "print('LCM is:',lcm)\n"
      ],
      "metadata": {
        "colab": {
          "base_uri": "https://localhost:8080/"
        },
        "id": "uLjZFeeCpqLh",
        "outputId": "bf57f091-9038-4299-bfb3-0fb4add00095"
      },
      "execution_count": null,
      "outputs": [
        {
          "output_type": "stream",
          "name": "stdout",
          "text": [
            "Enter the first number:22\n",
            "Enter the second number:12\n",
            "LCM is: 132.0\n"
          ]
        }
      ]
    },
    {
      "cell_type": "code",
      "source": [
        "# 34.Print first 25 prime numbers\n",
        "\n",
        "counter = 0\n",
        "num = 2\n",
        "while(counter <= 25):\n",
        "  for i in range(2,num):\n",
        "    if num % i == 0:\n",
        "      break\n",
        "  else:\n",
        "    print(num)\n",
        "    counter = counter + 1\n",
        "  num = num +1\n"
      ],
      "metadata": {
        "colab": {
          "base_uri": "https://localhost:8080/"
        },
        "id": "BbSXO9Z1rAyn",
        "outputId": "3c242872-1d8c-42f7-c422-501620865d0f"
      },
      "execution_count": null,
      "outputs": [
        {
          "output_type": "stream",
          "name": "stdout",
          "text": [
            "2\n",
            "3\n",
            "5\n",
            "7\n",
            "11\n",
            "13\n",
            "17\n",
            "19\n",
            "23\n",
            "29\n",
            "31\n",
            "37\n",
            "41\n",
            "43\n",
            "47\n",
            "53\n",
            "59\n",
            "61\n",
            "67\n",
            "71\n",
            "73\n",
            "79\n",
            "83\n",
            "89\n",
            "97\n",
            "101\n"
          ]
        }
      ]
    },
    {
      "cell_type": "code",
      "source": [
        "# 35.Print the first 20 numbers of a Fibonacci series\n",
        "\n",
        "count = 0\n",
        "a = 0\n",
        "b = 1\n",
        "print(a)\n",
        "print(b)\n",
        "\n",
        "while True:\n",
        "  c = a + b\n",
        "  a = b\n",
        "  b = c\n",
        "  print(c)\n",
        "  count = count + 1\n",
        "  if count == 18 :\n",
        "    break"
      ],
      "metadata": {
        "colab": {
          "base_uri": "https://localhost:8080/"
        },
        "id": "_dNIQo_KrKyN",
        "outputId": "ea8b3e0d-7e22-43fd-b1e1-1554f55de2b7"
      },
      "execution_count": null,
      "outputs": [
        {
          "output_type": "stream",
          "name": "stdout",
          "text": [
            "0\n",
            "1\n",
            "1\n",
            "2\n",
            "3\n",
            "5\n",
            "8\n",
            "13\n",
            "21\n",
            "34\n",
            "55\n",
            "89\n",
            "144\n",
            "233\n",
            "377\n",
            "610\n",
            "987\n",
            "1597\n",
            "2584\n",
            "4181\n"
          ]
        }
      ]
    },
    {
      "cell_type": "code",
      "source": [
        "#36.Write a program to find the compound interest \n",
        "\n",
        "p = int(input('Enter Pricipal:'))\n",
        "r = int(input('Enter Rate of interest:'))\n",
        "t = int(input('Enter the time period elapsed:'))\n",
        "\n",
        "a = p*(1+r/100)**t\n",
        "print('amount is:',a)\n",
        "\n",
        "ci = a -p\n",
        "print('compound interest is :',ci)\n"
      ],
      "metadata": {
        "colab": {
          "base_uri": "https://localhost:8080/"
        },
        "id": "fnkVtZJBrK1T",
        "outputId": "7b7eafe5-0742-4f1e-c662-884b1ee3e016"
      },
      "execution_count": null,
      "outputs": [
        {
          "output_type": "stream",
          "name": "stdout",
          "text": [
            "Enter Pricipal:50000\n",
            "Enter Rate of interest:12\n",
            "Enter the time period elapsed:1\n",
            "amount is: 56000.00000000001\n",
            "compound interest is : 6000.000000000007\n"
          ]
        }
      ]
    },
    {
      "cell_type": "code",
      "source": [
        "#37.Write a Python program that accepts an integer (n) and computes the value of n+nn+nnn.\n",
        "# n+ nn+ nnn\n",
        "\n",
        "n = input('Enter number')\n",
        "print('n is:',n)\n",
        "nn = n+n\n",
        "print('nn is:',nn)\n",
        "nnn = n+n+n\n",
        "print('nnn is:',nnn)\n",
        "c = int(n) + int(nn) + int(nnn)\n",
        "print(c)\n"
      ],
      "metadata": {
        "colab": {
          "base_uri": "https://localhost:8080/"
        },
        "id": "DLVN6Mb7rK4I",
        "outputId": "d872fb6d-c45a-4f32-f798-9beced4d4890"
      },
      "execution_count": null,
      "outputs": [
        {
          "output_type": "stream",
          "name": "stdout",
          "text": [
            "Enter number5\n",
            "n is: 5\n",
            "nn is: 55\n",
            "nnn is: 555\n",
            "615\n"
          ]
        }
      ]
    },
    {
      "cell_type": "code",
      "source": [
        "#38.Take a number from the user and find the number of digits in it. \n",
        "\n",
        "a = int(input('Enter number:'))\n",
        "count = 0\n",
        "\n",
        "while(a > 0):\n",
        "  a = a // 10\n",
        "  count = count + 1\n",
        "print('Number of digits:',count)"
      ],
      "metadata": {
        "colab": {
          "base_uri": "https://localhost:8080/"
        },
        "id": "SfQPx2wOrK69",
        "outputId": "8d6b83ca-2bb4-4a24-af6c-18c7f48ab04b"
      },
      "execution_count": null,
      "outputs": [
        {
          "output_type": "stream",
          "name": "stdout",
          "text": [
            "Enter number:12456328794236412654\n",
            "Number of digits: 20\n"
          ]
        }
      ]
    },
    {
      "cell_type": "code",
      "source": [
        "# 39.Print all factors of a given number provided by the user.\n",
        "\n",
        "num = int(input('Enter number:'))\n",
        "\n",
        "for i in range(1,num + 1):\n",
        "  if num % i == 0:\n",
        "    print('factors are:',i)\n"
      ],
      "metadata": {
        "colab": {
          "base_uri": "https://localhost:8080/"
        },
        "id": "7z1Af0hgrK-P",
        "outputId": "4609d9f3-f8e2-4984-e4da-a4c4d3e56e11"
      },
      "execution_count": null,
      "outputs": [
        {
          "output_type": "stream",
          "name": "stdout",
          "text": [
            "Enter number:56\n",
            "factors are: 1\n",
            "factors are: 2\n",
            "factors are: 4\n",
            "factors are: 7\n",
            "factors are: 8\n",
            "factors are: 14\n",
            "factors are: 28\n",
            "factors are: 56\n"
          ]
        }
      ]
    },
    {
      "cell_type": "code",
      "source": [
        "# 40.Find the reverse of a number provided by the user(any number of digit) \n",
        "\n",
        "a = int(input('Enter number:'))\n",
        "rev = 0\n",
        "\n",
        "while a > 0:\n",
        "  rem = a % 10\n",
        "  a = a // 10\n",
        "  rev = (rev * 10) +(rem)\n",
        "print('reversed value:',rev)"
      ],
      "metadata": {
        "colab": {
          "base_uri": "https://localhost:8080/"
        },
        "id": "O7VLLj4A04BL",
        "outputId": "cc020972-271a-4c80-c4bd-9caf86ec8231"
      },
      "execution_count": null,
      "outputs": [
        {
          "output_type": "stream",
          "name": "stdout",
          "text": [
            "Enter number:12345\n",
            "reversed value: 54321\n"
          ]
        }
      ]
    },
    {
      "cell_type": "code",
      "source": [
        "#46.Write a program to calculate the sum of the following series till the nth term\n",
        "#1/1! + 2/2! + 3/3! + 4/4! +…….+ n/n!\n",
        "#n will be provided by the user\n",
        "\n",
        "num = int(input('Enter number:'))\n",
        "result = 0\n",
        "fact = 1\n",
        "\n",
        "for i in range(1,num + 1):\n",
        "  fact = fact * i\n",
        "  result = result + (i/fact)\n",
        "print(result)\n",
        "\n",
        "\n",
        "\n",
        "\n"
      ],
      "metadata": {
        "colab": {
          "base_uri": "https://localhost:8080/"
        },
        "id": "aPoVZIak04El",
        "outputId": "e1e17b72-be89-45b1-cc12-5368f5450541"
      },
      "execution_count": null,
      "outputs": [
        {
          "output_type": "stream",
          "name": "stdout",
          "text": [
            "Enter number:5\n",
            "2.708333333333333\n"
          ]
        }
      ]
    },
    {
      "cell_type": "code",
      "source": [
        "from traitlets.config.application import T\n",
        "#49. Write a program that keeps on accepting a number from the user until the user enters Zero. Display the sum and average of all the numbers.\n",
        "\n",
        "num = int(input('Enter number'))\n",
        "add = 0\n",
        "avg = 0\n",
        "count = 0\n",
        "\n",
        "while True:\n",
        "  if num != 0:\n",
        "    add = add + num\n",
        "    count = count + 1\n",
        "    avg = add/count\n",
        "    num = int(input('Another number please:'))\n",
        "\n",
        "  else:\n",
        "    print(\"txn\")\n",
        "    break\n",
        "print('sum is:',add)\n",
        "print('averge:',avg)\n",
        "\n"
      ],
      "metadata": {
        "colab": {
          "base_uri": "https://localhost:8080/"
        },
        "id": "XpZCIJZG04Hn",
        "outputId": "4725866d-4581-4f72-cc04-fa97b3d9d68e"
      },
      "execution_count": null,
      "outputs": [
        {
          "output_type": "stream",
          "name": "stdout",
          "text": [
            "Enter number5\n",
            "Another number please:7\n",
            "Another number please:2\n",
            "Another number please:0\n",
            "txn\n",
            "sum is: 14\n",
            "averge: 4.666666666666667\n"
          ]
        }
      ]
    },
    {
      "cell_type": "code",
      "source": [
        "#51.Find the length of a given string without using the len() function. \n",
        "\n",
        "a = input(\"Enter string\")\n",
        "count = 0\n",
        "for i in a:\n",
        "  count = count +1\n",
        "print('Length of string is:',count)"
      ],
      "metadata": {
        "colab": {
          "base_uri": "https://localhost:8080/"
        },
        "id": "5gS3xfaT04Kt",
        "outputId": "95516e5b-8e9d-4f6b-efe7-5c65dcc6ab0a"
      },
      "execution_count": null,
      "outputs": [
        {
          "output_type": "stream",
          "name": "stdout",
          "text": [
            "Enter stringSumit rameshwar gaikwad\n",
            "Length of string is: 23\n"
          ]
        }
      ]
    },
    {
      "cell_type": "code",
      "source": [
        "#52.Extract username from a given email. \n",
        "#Eg if the email is nitish24singh@gmail.com then the username should be nitish24singh\n",
        "\n",
        "email = input('Enter email')\n",
        "username,mail = email.split('@')\n",
        "print(username)\n"
      ],
      "metadata": {
        "colab": {
          "base_uri": "https://localhost:8080/"
        },
        "id": "fAyJYtVO04OC",
        "outputId": "f2437325-4867-44b8-8917-35af9a65059a"
      },
      "execution_count": null,
      "outputs": [
        {
          "output_type": "stream",
          "name": "stdout",
          "text": [
            "Enter emailgaikwads070@gmail.com\n",
            "gaikwads070\n"
          ]
        }
      ]
    },
    {
      "cell_type": "code",
      "source": [
        "#53.Count the frequency of a particular character in a provided string. Eg 'hello how are you' is the string, the frequency of h in this string is 2.\n",
        "\n",
        "a = input('Enter string')\n",
        "b = input('Enter charachetr')\n",
        "count = 0\n",
        "\n",
        "for i in a:\n",
        "  if i in b:\n",
        "    count = count +1\n",
        "print('Character occurred:',count,'times')\n"
      ],
      "metadata": {
        "colab": {
          "base_uri": "https://localhost:8080/"
        },
        "id": "URsSi-SE04RI",
        "outputId": "d3dc40fb-78e7-43b9-bc41-a6814862a9dd"
      },
      "execution_count": null,
      "outputs": [
        {
          "output_type": "stream",
          "name": "stdout",
          "text": [
            "Enter stringhello sumit gaikwad\n",
            "Enter charachetra\n",
            "Character occurred: 2 times\n"
          ]
        }
      ]
    },
    {
      "cell_type": "code",
      "source": [
        "#54.Find the index position of a particular character in another string. \n",
        "\n",
        "a = input('Enter string:')\n",
        "b = input('enter charachter:')\n",
        "print(a.index(b))"
      ],
      "metadata": {
        "colab": {
          "base_uri": "https://localhost:8080/"
        },
        "id": "vaTM2KMQrLA1",
        "outputId": "cad571b7-356a-45bb-d840-d28fcebd11ff"
      },
      "execution_count": null,
      "outputs": [
        {
          "output_type": "stream",
          "name": "stdout",
          "text": [
            "Enter string: i am sumit gaikwad\n",
            "enter charachter:g\n",
            "12\n"
          ]
        }
      ]
    },
    {
      "cell_type": "code",
      "source": [
        "#55.Count the number of vowels in a string provided by the user.\n",
        "a = input('entr u string')\n",
        "vowels = 'aeiou'\n",
        "count = 0\n",
        "\n",
        "for i in a:\n",
        "  if i in vowels:\n",
        "    count = count + 1\n",
        "print(count)"
      ],
      "metadata": {
        "colab": {
          "base_uri": "https://localhost:8080/"
        },
        "id": "EcaecEXErLDx",
        "outputId": "6f7d38d9-084f-44e8-d440-4b31d2425ea4"
      },
      "execution_count": null,
      "outputs": [
        {
          "output_type": "stream",
          "name": "stdout",
          "text": [
            "entr u stringsumit gaikwad\n",
            "5\n"
          ]
        }
      ]
    },
    {
      "cell_type": "code",
      "source": [
        "#56.Write a program which can remove a particular character from a string. \n",
        "\n",
        "a = input(\" Enter u string\")\n",
        "b = int(input(\" Enter value of character\"))\n",
        "#\n",
        "c = a[0:b-1]\n",
        "d = a[b:]\n",
        "print(c+d)"
      ],
      "metadata": {
        "colab": {
          "base_uri": "https://localhost:8080/"
        },
        "id": "BCJy8dIwrLGq",
        "outputId": "25c996a4-6951-4b64-df1f-8edac8993b26"
      },
      "execution_count": null,
      "outputs": [
        {
          "output_type": "stream",
          "name": "stdout",
          "text": [
            " Enter u stringsumit\n",
            " Enter value of character4\n",
            "sumt\n"
          ]
        }
      ]
    },
    {
      "cell_type": "code",
      "source": [
        "#57.Write a program that can check whether a given string is palindrome or not.\n",
        "\n",
        "a = input(\"Enter u string\")\n",
        "rev = ''\n",
        "\n",
        "for i in range(len(a)-1,-1,-1):\n",
        "  rev = rev + a[i]\n",
        "print(rev)\n",
        "if rev == a:\n",
        "  print('palindrome')\n",
        "else:\n",
        "  print('Not palindrome')\n"
      ],
      "metadata": {
        "colab": {
          "base_uri": "https://localhost:8080/"
        },
        "id": "ckqcwrxpqdcx",
        "outputId": "a001ccfd-7479-4dd8-cae3-b51510412c32"
      },
      "execution_count": null,
      "outputs": [
        {
          "output_type": "stream",
          "name": "stdout",
          "text": [
            "Enter u stringdontnod\n",
            "dontnod\n",
            "palindrome\n"
          ]
        }
      ]
    },
    {
      "cell_type": "code",
      "source": [
        "#58.Write a python program to remove all the duplicates from a list\n",
        "l1 = [1,5,4,2,2,7,8,5]\n",
        "l2 = []\n",
        "\n",
        "for i in l1:\n",
        "  if i not in l2:\n",
        "    l2.append(i)\n",
        "print(l2)"
      ],
      "metadata": {
        "colab": {
          "base_uri": "https://localhost:8080/"
        },
        "id": "Og1qJ2xfqdfo",
        "outputId": "ee6f0e73-1f97-4c4c-8c4f-427c316a1e06"
      },
      "execution_count": null,
      "outputs": [
        {
          "output_type": "stream",
          "name": "stdout",
          "text": [
            "[1, 5, 4, 2, 7, 8]\n"
          ]
        }
      ]
    },
    {
      "cell_type": "code",
      "source": [
        "#59.Write a python program to convert a string to title case without using the title()\n",
        "\n",
        "a = ' hello sumit gaikwad'\n",
        "y = a.split()\n",
        "print(y)\n",
        "r = ''\n",
        "for i in y:\n",
        "  r = r + i[0].upper() + i[1:].lower() + ' '\n",
        "print(r) \n"
      ],
      "metadata": {
        "colab": {
          "base_uri": "https://localhost:8080/"
        },
        "id": "aiTHRrBOqdiq",
        "outputId": "ab1cece5-637e-480c-e625-d35cab6e574d"
      },
      "execution_count": null,
      "outputs": [
        {
          "output_type": "stream",
          "name": "stdout",
          "text": [
            "['hello', 'sumit', 'gaikwad']\n",
            "Hello Sumit Gaikwad \n"
          ]
        }
      ]
    },
    {
      "cell_type": "code",
      "source": [
        "#60.Write a python program to find the max item from a list without using the max function\n",
        "\n",
        "L = [2,3,4,5,6,7,8,9]\n",
        "max = L[0]\n",
        "for i in L:\n",
        "  if i > max:\n",
        "    max = i\n",
        "print(max)\n"
      ],
      "metadata": {
        "colab": {
          "base_uri": "https://localhost:8080/"
        },
        "id": "QPLZgXUxqdlb",
        "outputId": "910559c2-9791-4004-a0ee-0761c432a01c"
      },
      "execution_count": null,
      "outputs": [
        {
          "output_type": "stream",
          "name": "stdout",
          "text": [
            "9\n"
          ]
        }
      ]
    },
    {
      "cell_type": "code",
      "source": [
        "#61.Write a python program to reverse a list\n",
        "\n",
        "L = [1,45,2,4,3,4,8,2]\n",
        "rev = []\n",
        "\n",
        "for i in range(len(L)-1,-1,-1):\n",
        "  rev.append(L[i])\n",
        "print(rev)"
      ],
      "metadata": {
        "id": "VrGXEIJOqdpI",
        "colab": {
          "base_uri": "https://localhost:8080/"
        },
        "outputId": "2d1be1f5-8f5f-475b-90fc-d73096a7a2e3"
      },
      "execution_count": 3,
      "outputs": [
        {
          "output_type": "stream",
          "name": "stdout",
          "text": [
            "[2, 8, 4, 3, 4, 2, 45, 1]\n"
          ]
        }
      ]
    },
    {
      "cell_type": "code",
      "source": [
        "# 62.Write a python program to search a given number from a list\n",
        "\n",
        "L = [1,2,3,4,5,6,7,8,9]\n",
        "num = int(input(\"Enter number\"))\n",
        "\n",
        "for i in L:\n",
        "  if i == num:\n",
        "    print('True')\n",
        "    break\n",
        "else:\n",
        "  print('False')"
      ],
      "metadata": {
        "colab": {
          "base_uri": "https://localhost:8080/"
        },
        "id": "EnxhXk5xlHAG",
        "outputId": "3af8d95e-5a1c-4931-e2b1-77ee23d32749"
      },
      "execution_count": 5,
      "outputs": [
        {
          "output_type": "stream",
          "name": "stdout",
          "text": [
            "Enter number5\n",
            "True\n"
          ]
        }
      ]
    },
    {
      "cell_type": "code",
      "source": [
        "#63.Write a program that can create a new list from a given list where each item in the new list is square of the item of the old list\n",
        "\n",
        "l1 = [2,4,5,6,7]\n",
        "l2 = []\n",
        "for i in l1:\n",
        "  l2.append(i**2)\n",
        "print(l2)\n",
        "\n"
      ],
      "metadata": {
        "colab": {
          "base_uri": "https://localhost:8080/"
        },
        "id": "chD_x0IWlHDf",
        "outputId": "3aebb6d6-ec2a-4f8c-9b4d-82933a8e315c"
      },
      "execution_count": 6,
      "outputs": [
        {
          "output_type": "stream",
          "name": "stdout",
          "text": [
            "[4, 16, 25, 36, 49]\n"
          ]
        }
      ]
    },
    {
      "cell_type": "code",
      "source": [
        "#64.Write a program that can reverse words of a given string.\n",
        "\n",
        "a = input('Enter string')\n",
        "x = a.split()\n",
        "rev = []\n",
        "\n",
        "for i in range(len(x)-1,-1,-1):\n",
        "  rev.append(x[i])\n",
        "y = ' '.join(rev)\n",
        "print(y)"
      ],
      "metadata": {
        "colab": {
          "base_uri": "https://localhost:8080/"
        },
        "id": "47AmqJRblHH1",
        "outputId": "0bdffe26-36fc-4cbc-f8c7-570e684fa95e"
      },
      "execution_count": 10,
      "outputs": [
        {
          "output_type": "stream",
          "name": "stdout",
          "text": [
            "Enter stringsumit gaikwad\n",
            "gaikwad sumit\n"
          ]
        }
      ]
    },
    {
      "cell_type": "code",
      "source": [
        "#65.Write a program that can count the number of words in a given string\n",
        "\n",
        "a = input('Entr string')\n",
        "count = 0\n",
        "\n",
        "for i in a:\n",
        "  if i == ' ':\n",
        "    count = count +1\n",
        "words = count + 1\n",
        "print('Number of words in string:',words)\n",
        "\n"
      ],
      "metadata": {
        "colab": {
          "base_uri": "https://localhost:8080/"
        },
        "id": "4uq4vmXPlHLS",
        "outputId": "f43637dc-b3c1-41d4-a37c-edb1da16ff5c"
      },
      "execution_count": 11,
      "outputs": [
        {
          "output_type": "stream",
          "name": "stdout",
          "text": [
            "Entr stringsumit gaikwad\n",
            "Number of words in string: 2\n"
          ]
        }
      ]
    },
    {
      "cell_type": "code",
      "source": [
        "#66.Write a program to check if a list is in ascending order or not\n",
        "\n",
        "L = [1,2,3,45,6]\n",
        "flag = 0\n",
        "\n",
        "for i in range(0,len(L)-1):\n",
        "  if L[i] >= L[i + 1]:\n",
        "    flag = 1\n",
        "    break\n",
        "if flag == 0:\n",
        "  print('Sorted')\n",
        "else:\n",
        "  print('Not sorted')\n",
        "\n"
      ],
      "metadata": {
        "colab": {
          "base_uri": "https://localhost:8080/"
        },
        "id": "XbRT_uDslHPJ",
        "outputId": "ca6d6494-0dd3-4112-d5e8-12a5a872e942"
      },
      "execution_count": 13,
      "outputs": [
        {
          "output_type": "stream",
          "name": "stdout",
          "text": [
            "Not sorted\n"
          ]
        }
      ]
    },
    {
      "cell_type": "code",
      "source": [
        "# 67.Create 2 lists from a given list where 1st list will contain all the odd numbers from the original list and the 2nd one will contain all the even numbers \n",
        "\n",
        "L = [1,2,3,4,5,6,7,8,9]\n",
        "L_even = []\n",
        "L_odd = []\n",
        "\n",
        "for i in L:\n",
        "  if i % 2 == 0:\n",
        "    L_even.append(i)\n",
        "  else:\n",
        "    L_odd.append(i)\n",
        "print('List of even numbers:',L_even)\n",
        "print('List of odd numbers:',L_odd)\n",
        "\n"
      ],
      "metadata": {
        "colab": {
          "base_uri": "https://localhost:8080/"
        },
        "id": "JECMsHgZlHSw",
        "outputId": "ba21d29c-ac83-4592-f858-c68574668db6"
      },
      "execution_count": 14,
      "outputs": [
        {
          "output_type": "stream",
          "name": "stdout",
          "text": [
            "List of even numbers: [2, 4, 6, 8]\n",
            "List of odd numbers: [1, 3, 5, 7, 9]\n"
          ]
        }
      ]
    },
    {
      "cell_type": "code",
      "source": [
        "# 68.Write a program to merge 2 list without using the + operator\n",
        "L1 = [1,2,3,4]\n",
        "L2 = [5,6,7,8,9]\n",
        "L = []\n",
        "\n",
        "for i in L1:\n",
        "  L.append(i)\n",
        "for j in L2:\n",
        "  L.append(j)\n",
        "print(L)\n",
        "\n"
      ],
      "metadata": {
        "colab": {
          "base_uri": "https://localhost:8080/"
        },
        "id": "642Xgk0S2b8Z",
        "outputId": "9da1bd0d-3d35-4e3a-8eee-55a8b30119f6"
      },
      "execution_count": 15,
      "outputs": [
        {
          "output_type": "stream",
          "name": "stdout",
          "text": [
            "[1, 2, 3, 4, 5, 6, 7, 8, 9]\n"
          ]
        }
      ]
    },
    {
      "cell_type": "code",
      "source": [
        "# 69.Write a program to replace an item with a different item if found in the list \n",
        "\n",
        "L = [1,2,3,4,5]\n",
        "find = int(input('Enter the number for replace'))\n",
        "replace = int(input('Enter number'))\n",
        "\n",
        "for i in range(0,len(L)):\n",
        "  if find == L[i]:\n",
        "    L[i] = replace\n",
        "    print(L)\n",
        "    break\n",
        "else:\n",
        "  print('Not found')\n"
      ],
      "metadata": {
        "colab": {
          "base_uri": "https://localhost:8080/"
        },
        "id": "Lq6HKPnv2b_K",
        "outputId": "964547bd-86ed-4c35-cf96-5c9a2c035811"
      },
      "execution_count": 17,
      "outputs": [
        {
          "output_type": "stream",
          "name": "stdout",
          "text": [
            "Enter the number for replace3\n",
            "Enter number7\n",
            "[1, 2, 7, 4, 5]\n"
          ]
        }
      ]
    },
    {
      "cell_type": "code",
      "source": [
        "#70.Write a program that can convert a 2D list to 1D listWrite a program that can print \n",
        "L = [1,2,3,4,[5,6,7,8]]\n",
        "rev = []\n",
        "\n",
        "for i in L:\n",
        "  if type(i)==list:\n",
        "    rev.extend(i)\n",
        "  else:\n",
        "    rev.append(i)\n",
        " \n",
        "print(rev)\n",
        "\n",
        "\n"
      ],
      "metadata": {
        "colab": {
          "base_uri": "https://localhost:8080/"
        },
        "id": "M0UXYaXI2cCg",
        "outputId": "e9d0ef49-3bfa-40fa-8bc1-34d9c72d536e"
      },
      "execution_count": 22,
      "outputs": [
        {
          "output_type": "stream",
          "name": "stdout",
          "text": [
            "[1, 2, 3, 4, 5, 6, 7, 8]\n"
          ]
        }
      ]
    },
    {
      "cell_type": "code",
      "source": [
        "# 71.Write a program that can perform union and intersection on 2 given list. \n",
        "\n",
        "L1 = [1,2,3,4,5]\n",
        "L2 = [3,4,5,6,7]\n",
        "# union\n",
        "Union = []\n",
        "intersection = []\n",
        "\n",
        "for i in L1:\n",
        "  if i not in Union:\n",
        "    Union.append(i)\n",
        "for j in L2:\n",
        "  if j not in Union:\n",
        "    Union.append(j)\n",
        "# intersection\n",
        "for i in L1:\n",
        "  if i in L2:\n",
        "    intersection.append(i)\n",
        "print('Union list:',Union)\n",
        "print('intersection:',intersection)\n"
      ],
      "metadata": {
        "colab": {
          "base_uri": "https://localhost:8080/"
        },
        "id": "HGDmNC-F2cUB",
        "outputId": "99babd50-1762-4068-e4bd-8f6102a7747a"
      },
      "execution_count": 26,
      "outputs": [
        {
          "output_type": "stream",
          "name": "stdout",
          "text": [
            "Union list: [1, 2, 3, 4, 5, 6, 7]\n",
            "intersection: [3, 4, 5]\n"
          ]
        }
      ]
    },
    {
      "cell_type": "code",
      "source": [],
      "metadata": {
        "id": "eKSroX7W2cnp"
      },
      "execution_count": null,
      "outputs": []
    },
    {
      "cell_type": "code",
      "source": [],
      "metadata": {
        "id": "3KiCFpAw68_-"
      },
      "execution_count": null,
      "outputs": []
    },
    {
      "cell_type": "code",
      "source": [],
      "metadata": {
        "id": "FALowPrq69Cs"
      },
      "execution_count": null,
      "outputs": []
    },
    {
      "cell_type": "code",
      "source": [],
      "metadata": {
        "id": "LkUhJtEN69F0"
      },
      "execution_count": null,
      "outputs": []
    },
    {
      "cell_type": "code",
      "source": [],
      "metadata": {
        "id": "dWNTAXuG69IL"
      },
      "execution_count": null,
      "outputs": []
    },
    {
      "cell_type": "code",
      "source": [],
      "metadata": {
        "id": "Cq-SRNiy69LA"
      },
      "execution_count": null,
      "outputs": []
    },
    {
      "cell_type": "code",
      "source": [],
      "metadata": {
        "id": "d9vMfTZI69Na"
      },
      "execution_count": null,
      "outputs": []
    },
    {
      "cell_type": "code",
      "source": [],
      "metadata": {
        "id": "N6qXbR4669Q7"
      },
      "execution_count": null,
      "outputs": []
    }
  ]
}